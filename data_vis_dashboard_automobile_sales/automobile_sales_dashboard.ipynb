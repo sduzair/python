{
 "cells": [
  {
   "cell_type": "markdown",
   "metadata": {},
   "source": [
    "# Analyze the historical trends in automobile sales during recession periods"
   ]
  },
  {
   "cell_type": "markdown",
   "metadata": {},
   "source": [
    "## Components of the report items"
   ]
  },
  {
   "cell_type": "markdown",
   "metadata": {},
   "source": [
    "1. Yearly Automobile Sales Statistics\n",
    "  - Yearly Average Automobile sales using line chart for the whole period.\n",
    "  - For the chosen year provide,\n",
    "    - Total Monthly Automobile sales using line chart.\n",
    "    - Average Monthly Automobile sales of each vehicle type using bar chart.\n",
    "    - Total Advertisement Expenditure for each vehicle using pie chart\n",
    "\n",
    "2. Recession Period Statistics\n",
    "  - Average Automobile sales using line chart for the Recession Period using line chart.\n",
    "  - Average number of vehicles sold by vehicle type using bar chart\n",
    "  - Total expenditure share by vehicle type during recession usssing pie chart\n",
    "  - Effect of unemployment rate on vehicle type and sales using bar chart"
   ]
  },
  {
   "cell_type": "markdown",
   "metadata": {},
   "source": [
    "## Dataset variables"
   ]
  },
  {
   "cell_type": "markdown",
   "metadata": {},
   "source": [
    "\n",
    "- *Date*: The date of the observation.\n",
    "- *Recession*: A binary variable indicating recession perion; 1 means it was recession, 0 means it was normal.\n",
    "- *Automobile_Sales*: The number of vehicles sold during the period.\n",
    "- *GDP*: The per capita GDP value in USD.\n",
    "- *Unemployment_Rate*: The monthly unemployment rate.\n",
    "- *Consumer_Confidence*: A synthetic index representing consumer confidence, which can impact consumer spending and automobile purchases.\n",
    "- *Seasonality_Weight*: The weight representing the seasonality effect on automobile sales during the period.\n",
    "- *Price*: The average vehicle price during the period.\n",
    "- *Advertising_Expenditure*: The advertising expenditure of the company.\n",
    "- *Vehicle_Type*: The type of vehicles sold; Supperminicar, Smallfamiliycar, Mediumfamilycar, Executivecar, Sports.\n",
    "- *Competition*: The measure of competition in the market, such as the number of competitors or market share of major manufacturers.\n",
    "- *Month*: Month of the observation extracted from Date.\n",
    "- *Year*: Year of the observation extracted from Date."
   ]
  },
  {
   "cell_type": "markdown",
   "metadata": {},
   "source": [
    "## Requirements to create the expected Dashboard"
   ]
  },
  {
   "cell_type": "markdown",
   "metadata": {},
   "source": [
    "- Two dropdown menus: For choosing report type and year\n",
    "- Each dropdown will be designed in a division\n",
    "  - The second dropdown (for selecting the year) should be enabled only if when the user selects “Yearly Statistics report” from the previous dropdown, else it should be disabled only. - The second dropdown (for selecting the year) should be enabled only if when the user selects “Yearly Statistics report” from the previous dropdown, else it should be disabled only.\n",
    "\n",
    "\n",
    "- Layout for adding graphs.\n",
    "- Callback functions to return to the layout and display graphs.\n",
    "  - First callback will be required to take the input for the report type and set the years dropdown to be enabled to take the year input for “Years Statistics Report”, else this dropdown be put on disabled.\n",
    "  - In the second callback you will fetch the value of report type and year and return the required graphs appropriately for each type of report\n",
    "- The four plots to be displayed in 2 rows, 2 column representation"
   ]
  },
  {
   "cell_type": "code",
   "execution_count": null,
   "metadata": {},
   "outputs": [],
   "source": [
    "# Solution skeleton\n",
    "# !wget https://cf-courses-data.s3.us.cloud-object-storage.appdomain.cloud/IBMSkillsNetwork-DV0101EN-Coursera/labs/v4/Final_Project/DV0101EN-Final_Assign_Part_2_Questions.py"
   ]
  },
  {
   "cell_type": "markdown",
   "metadata": {},
   "source": [
    "## Dependencies"
   ]
  },
  {
   "cell_type": "markdown",
   "metadata": {},
   "source": [
    "```bash\n",
    "python --version\n",
    "Python 3.9\n",
    "```"
   ]
  },
  {
   "cell_type": "code",
   "execution_count": null,
   "metadata": {},
   "outputs": [],
   "source": [
    "!python --version"
   ]
  },
  {
   "cell_type": "code",
   "execution_count": null,
   "metadata": {},
   "outputs": [],
   "source": [
    "# %pip install -q pandas plotly dash dash-bootstrap-components pyarrow python-dotenv\n",
    "# store requirements\n",
    "# %pip freeze > requirements.txt TODO Create a shell script that generates a unix requirements.txt\n",
    "\n",
    "import warnings\n",
    "warnings.filterwarnings('ignore', category=FutureWarning)\n",
    "\n",
    "from IPython.core.interactiveshell import InteractiveShell\n",
    "InteractiveShell.ast_node_interactivity = \"all\""
   ]
  },
  {
   "cell_type": "markdown",
   "metadata": {},
   "source": [
    "### Imports"
   ]
  },
  {
   "cell_type": "code",
   "execution_count": null,
   "metadata": {},
   "outputs": [],
   "source": [
    "import pyarrow as pa\n",
    "import pandas as pd"
   ]
  },
  {
   "cell_type": "markdown",
   "metadata": {},
   "source": [
    "### Dataset"
   ]
  },
  {
   "cell_type": "markdown",
   "metadata": {},
   "source": [
    "#### Data processing and save to parquet"
   ]
  },
  {
   "cell_type": "code",
   "execution_count": null,
   "metadata": {},
   "outputs": [],
   "source": [
    "from app.data_preprocessing import (\n",
    "    data_preprocessing,\n",
    "    url_remote_csv,\n",
    "    filename_parquet,\n",
    "    load_parquet\n",
    ")\n",
    "\n",
    "data_preprocessing(url_remote_csv, filename_parquet)"
   ]
  },
  {
   "cell_type": "markdown",
   "metadata": {},
   "source": [
    "#### Read from parquet"
   ]
  },
  {
   "cell_type": "code",
   "execution_count": null,
   "metadata": {},
   "outputs": [],
   "source": [
    "data = load_parquet(filename_parquet)"
   ]
  },
  {
   "cell_type": "code",
   "execution_count": null,
   "metadata": {},
   "outputs": [],
   "source": [
    "#  Year, Month\n",
    "data.head()"
   ]
  },
  {
   "cell_type": "markdown",
   "metadata": {},
   "source": [
    "## Data Quality Checks"
   ]
  },
  {
   "cell_type": "code",
   "execution_count": null,
   "metadata": {},
   "outputs": [],
   "source": [
    "data.info(memory_usage=\"deep\")"
   ]
  },
  {
   "cell_type": "markdown",
   "metadata": {},
   "source": [
    "### Number of missing values"
   ]
  },
  {
   "cell_type": "code",
   "execution_count": null,
   "metadata": {},
   "outputs": [],
   "source": [
    "_ = data.isna().sum()\n",
    "missing = _[_ > 0]\n",
    "missing"
   ]
  },
  {
   "cell_type": "markdown",
   "metadata": {},
   "source": [
    "### Static values"
   ]
  },
  {
   "cell_type": "code",
   "execution_count": null,
   "metadata": {},
   "outputs": [],
   "source": [
    "_ = data.nunique()\n",
    "static_vals = _[_ == 1]\n",
    "static_vals"
   ]
  },
  {
   "cell_type": "markdown",
   "metadata": {},
   "source": [
    "### Rows with missing cells\n"
   ]
  },
  {
   "cell_type": "code",
   "execution_count": null,
   "metadata": {},
   "outputs": [],
   "source": [
    "rows_with_missing = data.loc[data.isna().any(axis=1), :]\n",
    "rows_with_missing.head()"
   ]
  },
  {
   "cell_type": "markdown",
   "metadata": {},
   "source": [
    "## EDA"
   ]
  },
  {
   "cell_type": "code",
   "execution_count": null,
   "metadata": {},
   "outputs": [],
   "source": [
    "data.describe(include=\"all\")"
   ]
  },
  {
   "cell_type": "markdown",
   "metadata": {},
   "source": [
    "## Dash App"
   ]
  },
  {
   "cell_type": "code",
   "execution_count": null,
   "metadata": {},
   "outputs": [],
   "source": [
    "from app import create_app\n",
    "\n",
    "def run_app():\n",
    "    df = load_parquet(filename_parquet)\n",
    "    app = create_app(df)\n",
    "    app.run_server(debug=True, host=\"localhost\", port=8050)\n",
    "\n",
    "# Run the Dash app\n",
    "run_app()"
   ]
  }
 ],
 "metadata": {
  "language_info": {
   "name": "python",
   "pygments_lexer": "ipython3"
  }
 },
 "nbformat": 4,
 "nbformat_minor": 0
}
