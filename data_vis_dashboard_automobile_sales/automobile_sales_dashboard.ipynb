{
 "cells": [
  {
   "cell_type": "markdown",
   "metadata": {},
   "source": [
    "# Analyze the historical trends in automobile sales during recession periods"
   ]
  },
  {
   "cell_type": "markdown",
   "metadata": {},
   "source": [
    "## Components of the report items"
   ]
  },
  {
   "cell_type": "markdown",
   "metadata": {},
   "source": [
    "1. Yearly Automobile Sales Statistics\n",
    "  - Yearly Average Automobile sales using line chart for the whole period.\n",
    "  - For the chosen year provide,\n",
    "    - Total Monthly Automobile sales using line chart.\n",
    "    - Average Monthly Automobile sales of each vehicle type using bar chart.\n",
    "    - Total Advertisement Expenditure for each vehicle using pie chart\n",
    "\n",
    "2. Recession Period Statistics\n",
    "  - Average Automobile sales using line chart for the Recession Period using line chart.\n",
    "  - Average number of vehicles sold by vehicle type using bar chart\n",
    "  - Total expenditure share by vehicle type during recession usssing pie chart\n",
    "  - Effect of unemployment rate on vehicle type and sales using bar chart"
   ]
  },
  {
   "cell_type": "markdown",
   "metadata": {},
   "source": [
    "## Dataset variables"
   ]
  },
  {
   "cell_type": "markdown",
   "metadata": {},
   "source": [
    "\n",
    "- *Date*: The date of the observation.\n",
    "- *Recession*: A binary variable indicating recession perion; 1 means it was recession, 0 means it was normal.\n",
    "- *Automobile_Sales*: The number of vehicles sold during the period.\n",
    "- *GDP*: The per capita GDP value in USD.\n",
    "- *Unemployment_Rate*: The monthly unemployment rate.\n",
    "- *Consumer_Confidence*: A synthetic index representing consumer confidence, which can impact consumer spending and automobile purchases.\n",
    "- *Seasonality_Weight*: The weight representing the seasonality effect on automobile sales during the period.\n",
    "- *Price*: The average vehicle price during the period.\n",
    "- *Advertising_Expenditure*: The advertising expenditure of the company.\n",
    "- *Vehicle_Type*: The type of vehicles sold; Supperminicar, Smallfamiliycar, Mediumfamilycar, Executivecar, Sports.\n",
    "- *Competition*: The measure of competition in the market, such as the number of competitors or market share of major manufacturers.\n",
    "- *Month*: Month of the observation extracted from Date.\n",
    "- *Year*: Year of the observation extracted from Date."
   ]
  },
  {
   "cell_type": "markdown",
   "metadata": {},
   "source": [
    "## Requirements to create the expected Dashboard"
   ]
  },
  {
   "cell_type": "markdown",
   "metadata": {},
   "source": [
    "- Two dropdown menus: For choosing report type and year\n",
    "- Each dropdown will be designed in a division\n",
    "  - The second dropdown (for selecting the year) should be enabled only if when the user selects “Yearly Statistics report” from the previous dropdown, else it should be disabled only. - The second dropdown (for selecting the year) should be enabled only if when the user selects “Yearly Statistics report” from the previous dropdown, else it should be disabled only.\n",
    "\n",
    "\n",
    "- Layout for adding graphs.\n",
    "- Callback functions to return to the layout and display graphs.\n",
    "  - First callback will be required to take the input for the report type and set the years dropdown to be enabled to take the year input for “Years Statistics Report”, else this dropdown be put on disabled.\n",
    "  - In the second callback you will fetch the value of report type and year and return the required graphs appropriately for each type of report\n",
    "- The four plots to be displayed in 2 rows, 2 column representation"
   ]
  },
  {
   "cell_type": "code",
   "execution_count": null,
   "metadata": {},
   "outputs": [],
   "source": [
    "# Solution skeleton\n",
    "# !wget https://cf-courses-data.s3.us.cloud-object-storage.appdomain.cloud/IBMSkillsNetwork-DV0101EN-Coursera/labs/v4/Final_Project/DV0101EN-Final_Assign_Part_2_Questions.py"
   ]
  },
  {
   "cell_type": "markdown",
   "metadata": {},
   "source": [
    "## Dependencies"
   ]
  },
  {
   "cell_type": "markdown",
   "metadata": {},
   "source": [
    "```bash\n",
    "python --version\n",
    "Python 3.10.12\n",
    "```"
   ]
  },
  {
   "cell_type": "code",
   "execution_count": null,
   "metadata": {},
   "outputs": [],
   "source": [
    "!python --version"
   ]
  },
  {
   "cell_type": "code",
   "execution_count": null,
   "metadata": {},
   "outputs": [],
   "source": [
    "%pip install -q pandas plotly dash dash-bootstrap-components pyarrow\n",
    "# %pip freeze\n",
    "\n",
    "import warnings\n",
    "warnings.filterwarnings('ignore', category=FutureWarning)"
   ]
  },
  {
   "cell_type": "markdown",
   "metadata": {},
   "source": [
    "### Imports"
   ]
  },
  {
   "cell_type": "code",
   "execution_count": null,
   "metadata": {},
   "outputs": [],
   "source": [
    "import dash\n",
    "from dash import dcc\n",
    "from dash import html\n",
    "from dash.dependencies import Input, Output\n",
    "import pandas as pd\n",
    "import plotly.graph_objs as go\n",
    "import plotly.express as px\n",
    "import dash_bootstrap_components as dbc"
   ]
  },
  {
   "cell_type": "markdown",
   "metadata": {},
   "source": [
    "### Dataset"
   ]
  },
  {
   "cell_type": "code",
   "execution_count": null,
   "metadata": {},
   "outputs": [],
   "source": [
    "import pyarrow as pa\n",
    "\n",
    "categorical_cols = ['Vehicle_Type', 'City']\n",
    "\n",
    "data = pd.read_csv(\n",
    "    \"https://cf-courses-data.s3.us.cloud-object-storage.appdomain.cloud/IBMDeveloperSkillsNetwork-DV0101EN-SkillsNetwork/Data%20Files/historical_automobile_sales.csv\",\n",
    "    parse_dates=[\"Date\"],\n",
    "    dtype={col: \"category\" for col in categorical_cols}\n",
    ")\n",
    "\n",
    "# Converts the numeric and datetime data types to their PyArrow counterparts\n",
    "data_py = data.convert_dtypes(dtype_backend=\"pyarrow\")\n",
    "\n",
    "# To convert categorical columns to PyArrow dictionary type\n",
    "for col in categorical_cols:\n",
    "    data_py[col] = data_py[col].astype(pd.ArrowDtype(pa.dictionary(pa.int16(), pa.string())))\n",
    "\n",
    "data_py.to_parquet('data.parquet', engine='pyarrow')"
   ]
  },
  {
   "cell_type": "code",
   "execution_count": null,
   "metadata": {},
   "outputs": [],
   "source": [
    "#  Year, Month\n",
    "data.head()"
   ]
  },
  {
   "cell_type": "markdown",
   "metadata": {},
   "source": [
    "## Data Quality Checks"
   ]
  },
  {
   "cell_type": "code",
   "execution_count": null,
   "metadata": {},
   "outputs": [],
   "source": [
    "data.info(memory_usage='deep')"
   ]
  },
  {
   "cell_type": "markdown",
   "metadata": {},
   "source": [
    "### Number of missing values"
   ]
  },
  {
   "cell_type": "code",
   "execution_count": null,
   "metadata": {},
   "outputs": [],
   "source": [
    "_ = data.isna().sum()\n",
    "missing = _[_ > 0]\n",
    "missing\n"
   ]
  },
  {
   "cell_type": "markdown",
   "metadata": {},
   "source": [
    "### Static values"
   ]
  },
  {
   "cell_type": "code",
   "execution_count": null,
   "metadata": {},
   "outputs": [],
   "source": [
    "_ = data.nunique()\n",
    "static_vals = _[_ == 1]\n",
    "static_vals"
   ]
  },
  {
   "cell_type": "markdown",
   "metadata": {},
   "source": [
    "### Rows with missing cells\n"
   ]
  },
  {
   "cell_type": "code",
   "execution_count": null,
   "metadata": {},
   "outputs": [],
   "source": [
    "rows_with_missing = data.loc[data.isna().any(axis=1), :]\n",
    "rows_with_missing.head()"
   ]
  },
  {
   "cell_type": "markdown",
   "metadata": {},
   "source": [
    "## EDA"
   ]
  },
  {
   "cell_type": "code",
   "execution_count": null,
   "metadata": {},
   "outputs": [],
   "source": [
    "data.describe(include='all')"
   ]
  },
  {
   "cell_type": "markdown",
   "metadata": {},
   "source": [
    "## Dash App"
   ]
  },
  {
   "cell_type": "code",
   "execution_count": null,
   "metadata": {},
   "outputs": [],
   "source": [
    "%pip install -q pyngrok\n",
    "\n",
    "import getpass\n",
    "from pyngrok import ngrok, conf\n",
    "ngrok.kill()\n",
    "print(\"Enter your authtoken, which can be copied from https://dashboard.ngrok.com/get-started/your-authtoken\")\n",
    "NGROK_AUTH_TOKEN = getpass.getpass()\n",
    "ngrok.set_auth_token(NGROK_AUTH_TOKEN)\n",
    "ngrok.connect(8050)"
   ]
  },
  {
   "cell_type": "code",
   "execution_count": null,
   "metadata": {},
   "outputs": [],
   "source": [
    "import time\n",
    "# Initialize the Dash app\n",
    "app = dash.Dash(name=__name__, external_stylesheets=[dbc.themes.BOOTSTRAP])\n",
    "\n",
    "# Set the title of the dashboard\n",
    "app.title = \"Automobile Statistics Dashboard\"\n",
    "\n",
    "#---------------------------------------------------------------------------------\n",
    "\n",
    "# Create the dropdown menu options\n",
    "dropdown_options = [\n",
    "  {'label': 'Yearly Statistics', 'value': 'Yearly Statistics'},\n",
    "  {'label': 'Recession Period Statistics', 'value': 'Recession Period Statistics'}\n",
    "]\n",
    "# List of years\n",
    "year_list = [i for i in range(1980, 2024, 1)]\n",
    "\n",
    "#---------------------------------------------------------------------------------------\n",
    "\n",
    "# Create the layout of the app\n",
    "app.layout = dbc.Container([\n",
    "  # TASK 2.1 Add title to the dashboard\n",
    "  dbc.Row([\n",
    "    html.H1(app.title, style={'textAlign': 'left', 'color': '#503D36', 'font-size': 24, 'text-align': 'center'}), # May include style for title\n",
    "  ]),\n",
    "  # TASK 2.2: Add two dropdown menus\n",
    "  dbc.Row([\n",
    "    dbc.Col([\n",
    "      html.Label(\"Select Statistics:\"),\n",
    "      dcc.Dropdown(\n",
    "          id='dropdown-statistics',\n",
    "          options=dropdown_options,\n",
    "          value='Select Statistics',\n",
    "          placeholder='Select a report type',\n",
    "          searchable=False\n",
    "      )\n",
    "    ], width=9)\n",
    "  ], justify='center'),\n",
    "  dbc.Row([\n",
    "    dbc.Col([\n",
    "      html.Label(\"Select Year:\"),\n",
    "      html.Div(dcc.Dropdown(\n",
    "        id='select-year',\n",
    "        options=[{'label': i, 'value': i} for i in year_list],\n",
    "        placeholder='Select an year',\n",
    "        searchable=False,\n",
    "      )),\n",
    "    ], width=9)\n",
    "  ], justify='center'),\n",
    "  # TASK 2.3: Add a division for output display\n",
    "  dbc.Container(id='output-container', className='chart-grid')\n",
    "], fluid=True)\n",
    "\n",
    "#TASK 2.4: Creating Callbacks\n",
    "# Define the callback function to update the input container based on the selected statistics\n",
    "\n",
    "@app.callback(\n",
    "  Output(component_id='select-year', component_property='disabled'),\n",
    "  Input(component_id='dropdown-statistics',component_property='value'))\n",
    "def update_input_container(selected_statistics: str):\n",
    "  if selected_statistics == dropdown_options[0]['value']:   # 'Yearly Statistics'\n",
    "    return False\n",
    "  return True\n",
    "\n",
    "# Callback for plotting\n",
    "# Define the callback function to update the input container based on the selected statistics\n",
    "@app.callback(\n",
    "    Output(component_id='output-container', component_property='children'),\n",
    "    Input(component_id='dropdown-statistics', component_property='value'), \n",
    "    Input(component_id='select-year', component_property='value'))\n",
    "def update_output_container(selected_statistics: str, input_year: str):\n",
    "  if selected_statistics == dropdown_options[1]['value']:   # 'Recession Period Statistics'\n",
    "    # Filter the data for recession periods\n",
    "    recession_data = data[data['Recession'] == 1]\n",
    "\n",
    "    #TASK 2.5: Create and display graphs for Recession Report Statistics\n",
    "\n",
    "    #Plot 1 Automobile sales fluctuate over Recession Period (year wise)\n",
    "    # use groupby to create relevant data for plotting\n",
    "    sales_rec_by_year=recession_data.groupby('Year')['Automobile_Sales'].mean().reset_index()\n",
    "    R_chart1 = dcc.Graph(\n",
    "      figure=px.line(\n",
    "        sales_rec_by_year, \n",
    "        x='Year', \n",
    "        y='Automobile_Sales', \n",
    "        title=\"Average Automobile Sales fluctuation over Recession Period\"))\n",
    "\n",
    "    #Plot 2 Calculate the average number of vehicles sold by vehicle type\n",
    "    # use groupby to create relevant data for plotting\n",
    "    sales_rec_by_veh = recession_data.groupby('Vehicle_Type')['Automobile_Sales'].mean().reset_index()\n",
    "    R_chart2  = dcc.Graph(\n",
    "      figure=px.bar(\n",
    "        data_frame=sales_rec_by_veh,\n",
    "        x='Vehicle_Type',\n",
    "        y='Automobile_Sales'))\n",
    "\n",
    "    # Plot 3 Pie chart for total expenditure share by vehicle type during recessions\n",
    "    # use groupby to create relevant data for plotting\n",
    "    exp_rec_by_veh = recession_data.groupby('Vehicle_Type')['Advertising_Expenditure'].sum().reset_index()\n",
    "    R_chart3 = dcc.Graph(\n",
    "      figure=px.pie(\n",
    "        data_frame=exp_rec_by_veh,\n",
    "        names='Vehicle_Type',\n",
    "        values='Advertising_Expenditure'))\n",
    "\n",
    "    # Plot 4 bar chart for the effect of unemployment rate on vehicle type and sales\n",
    "    sales_rec_by_uemp_veh = recession_data.groupby(['unemployment_rate', 'Vehicle_Type'])['Automobile_Sales'].sum().reset_index()\n",
    "    R_chart4 = dcc.Graph(\n",
    "      figure=px.bar(\n",
    "        sales_rec_by_uemp_veh,\n",
    "        x='unemployment_rate',\n",
    "        y='Automobile_Sales',\n",
    "        color='Vehicle_Type',\n",
    "        title='Vehicle-wise Sales by Unemployment Rate during Recessions'))\n",
    "\n",
    "    return [\n",
    "      dbc.Row(className='chart-item', children=[dbc.Col(children=R_chart1),dbc.Col(children=R_chart2)]),\n",
    "      dbc.Row(className='chart-item', children=[dbc.Col(children=R_chart3),dbc.Col(children=R_chart4)])]\n",
    "\n",
    "  # TASK 2.6: Create and display graphs for Yearly Report Statistics\n",
    "  # Yearly Statistic Report Plots\n",
    "  elif (input_year and selected_statistics == dropdown_options[0]['value']): # 'Yearly Statistics'\n",
    "    yearly_data = data[data['Year'] == input_year]\n",
    "\n",
    "    # #TASK 2.5: Creating Graphs Yearly data\n",
    "\n",
    "    #plot 1 Yearly Automobile sales using line chart for the whole period.\n",
    "    yas= data.groupby('Year')['Automobile_Sales'].mean().reset_index()\n",
    "    Y_chart1 = dcc.Graph(\n",
    "      figure=px.line(\n",
    "        data_frame=yas,\n",
    "        x='Year',\n",
    "        y='Automobile_Sales'))\n",
    "\n",
    "    # Plot 2 Total Monthly Automobile sales using line chart.\n",
    "    mas = yearly_data.groupby('Month')['Automobile_Sales'].sum().reset_index()\n",
    "    Y_chart2 = dcc.Graph(\n",
    "      figure=px.line(\n",
    "        data_frame=mas,\n",
    "        x='Month',\n",
    "        y='Automobile_Sales'))\n",
    "\n",
    "    # Plot bar chart for average number of vehicles sold during the given year\n",
    "    avr_vdata=yearly_data.groupby('Vehicle_Type')['Automobile_Sales'].sum().reset_index()\n",
    "    Y_chart3 = dcc.Graph(\n",
    "      figure=px.bar(\n",
    "        data_frame=avr_vdata,\n",
    "        x='Vehicle_Type',\n",
    "        y='Automobile_Sales',\n",
    "        title='Average Vehicles Sold by Vehicle Type in the year {}'.format(input_year)))\n",
    "\n",
    "    # Total Advertisement Expenditure for each vehicle using pie chart\n",
    "    exp_data=yearly_data.groupby('Vehicle_Type')['Advertising_Expenditure'].sum().reset_index()\n",
    "    Y_chart4 = dcc.Graph(\n",
    "       figure=px.pie(\n",
    "          data_frame=exp_data,\n",
    "          names='Vehicle_Type',\n",
    "          values='Advertising_Expenditure'))\n",
    "\n",
    "    # TASK 2.6: Returning the graphs for displaying Yearly data\n",
    "    # return [\n",
    "    #   html.Div(className='.........', children=[html.Div(....,html.Div(....)],style={...}),\n",
    "    #   html.Div(className='.........', children=[html.Div(....),html.Div(....)],style={...})]\n",
    "\n",
    "    return [\n",
    "      dbc.Row(className='chart-item', children=[dbc.Col(children=Y_chart1),dbc.Col(children=Y_chart2)]),\n",
    "      dbc.Row(className='chart-item', children=[dbc.Col(children=Y_chart3),dbc.Col(children=Y_chart4)])]\n",
    "\n",
    "  else:\n",
    "      return None\n",
    "\n",
    "# Run the Dash app\n",
    "if __name__ == '__main__':\n",
    "    app.run_server()"
   ]
  },
  {
   "cell_type": "code",
   "execution_count": null,
   "metadata": {},
   "outputs": [],
   "source": []
  }
 ],
 "metadata": {
  "language_info": {
   "name": "python",
   "pygments_lexer": "ipython3"
  }
 },
 "nbformat": 4,
 "nbformat_minor": 0
}
