{
 "cells": [
  {
   "cell_type": "markdown",
   "metadata": {},
   "source": [
    "# Australian Wildfires Dashboard"
   ]
  },
  {
   "cell_type": "markdown",
   "metadata": {},
   "source": [
    "## Components of Dashboard and Expected layout"
   ]
  },
  {
   "cell_type": "markdown",
   "metadata": {},
   "source": [
    "### Components of the Dashboard"
   ]
  },
  {
   "cell_type": "markdown",
   "metadata": {},
   "source": [
    "1. Select Region\n",
    "2. Select Year\n",
    "3. Divison to display\n",
    "    - Pie Chart to display Monthly Average Estimated Fire Area for the selected Regions in the selected Year\n",
    "    - Bar Chart to display Monthly Average Count of Pixels for Presumed Vegetation Fires for the selected Regions in the selected Year"
   ]
  },
  {
   "cell_type": "markdown",
   "metadata": {},
   "source": [
    "### Expected Layout"
   ]
  },
  {
   "cell_type": "markdown",
   "metadata": {},
   "source": [
    "![Final Dashboard](https://raw.githubusercontent.com/sduzair/python/data_vis_dashboard_wildfire_activities_australia/data_vis_dashboard_wildfire_activities_australia/practice_ass_layout.png)"
   ]
  },
  {
   "cell_type": "markdown",
   "metadata": {},
   "source": [
    "### Requirements to create the expected result"
   ]
  },
  {
   "cell_type": "markdown",
   "metadata": {},
   "source": [
    "- A dropdown menu: For choosing year\n",
    "- A radioitem for choosing the Region\n",
    "- The layout will be designed as follows:\n",
    "- An outer division with two inner divisions (as shown in the expected layout)\n",
    "- One of the inner divisions will have information about the radioitem and dropdown (which are the input) and the other one is for adding graphs(the 2 output graphs).\n",
    "- Callback function to compute data, create graph and return to the layout."
   ]
  },
  {
   "cell_type": "markdown",
   "metadata": {},
   "source": [
    "### To do:"
   ]
  },
  {
   "cell_type": "markdown",
   "metadata": {},
   "source": [
    "1. Import required libraries and read the dataset\n",
    "2. Create an application layout\n",
    "3. Add title to the dashboard using HTML H1 component\n",
    "4. Add a radioitem using dcc.RaioItems and dropdown using dcc.dropdown\n",
    "5. Add the pie chart and bar chart core graph components.\n",
    "6. Run the app"
   ]
  },
  {
   "cell_type": "markdown",
   "metadata": {},
   "source": [
    "## Dependencies"
   ]
  },
  {
   "cell_type": "code",
   "execution_count": 2,
   "metadata": {},
   "outputs": [
    {
     "name": "stdout",
     "output_type": "stream",
     "text": [
      "Note: you may need to restart the kernel to use updated packages.\n"
     ]
    }
   ],
   "source": [
    "# %pip install -q pandas plotly dash\n",
    "# %pip freeze > requirements.txt\n",
    "# !python --version > python_version.txt\n",
    "%pip install -q -r requirements.txt"
   ]
  },
  {
   "cell_type": "markdown",
   "metadata": {},
   "source": [
    "## Imports"
   ]
  },
  {
   "cell_type": "code",
   "execution_count": 3,
   "metadata": {},
   "outputs": [],
   "source": [
    "import pandas as pd\n",
    "import dash\n",
    "from dash import html, dcc\n",
    "from dash.dependencies import Input, Output, State\n",
    "import plotly.graph_objects as go\n",
    "import plotly.express as px\n",
    "from dash import no_update\n",
    "import datetime as dt\n",
    "import warnings\n",
    "%config InlineBackend.figure_format = 'retina'\n",
    "\n",
    "warnings.filterwarnings('ignore')"
   ]
  },
  {
   "cell_type": "markdown",
   "metadata": {},
   "source": [
    "## Loading data"
   ]
  },
  {
   "cell_type": "code",
   "execution_count": 4,
   "metadata": {},
   "outputs": [],
   "source": [
    "# Read the wildfire data into pandas dataframe\n",
    "df =  pd.read_csv('https://cf-courses-data.s3.us.cloud-object-storage.appdomain.cloud/IBMDeveloperSkillsNetwork-DV0101EN-SkillsNetwork/Data%20Files/Historical_Wildfires.csv')"
   ]
  },
  {
   "cell_type": "markdown",
   "metadata": {},
   "source": [
    "## Data wrangling"
   ]
  },
  {
   "cell_type": "code",
   "execution_count": 5,
   "metadata": {},
   "outputs": [
    {
     "data": {
      "text/html": [
       "<div>\n",
       "<style scoped>\n",
       "    .dataframe tbody tr th:only-of-type {\n",
       "        vertical-align: middle;\n",
       "    }\n",
       "\n",
       "    .dataframe tbody tr th {\n",
       "        vertical-align: top;\n",
       "    }\n",
       "\n",
       "    .dataframe thead th {\n",
       "        text-align: right;\n",
       "    }\n",
       "</style>\n",
       "<table border=\"1\" class=\"dataframe\">\n",
       "  <thead>\n",
       "    <tr style=\"text-align: right;\">\n",
       "      <th></th>\n",
       "      <th>Region</th>\n",
       "      <th>Date</th>\n",
       "      <th>Estimated_fire_area</th>\n",
       "      <th>Mean_estimated_fire_brightness</th>\n",
       "      <th>Mean_estimated_fire_radiative_power</th>\n",
       "      <th>Mean_confidence</th>\n",
       "      <th>Std_confidence</th>\n",
       "      <th>Var_confidence</th>\n",
       "      <th>Count</th>\n",
       "      <th>Replaced</th>\n",
       "      <th>Year</th>\n",
       "      <th>Month</th>\n",
       "    </tr>\n",
       "  </thead>\n",
       "  <tbody>\n",
       "    <tr>\n",
       "      <th>0</th>\n",
       "      <td>NSW</td>\n",
       "      <td>2005-01-04</td>\n",
       "      <td>8.68000</td>\n",
       "      <td>312.266667</td>\n",
       "      <td>42.400000</td>\n",
       "      <td>78.666667</td>\n",
       "      <td>2.886751</td>\n",
       "      <td>8.333333</td>\n",
       "      <td>3</td>\n",
       "      <td>R</td>\n",
       "      <td>2005</td>\n",
       "      <td>1</td>\n",
       "    </tr>\n",
       "    <tr>\n",
       "      <th>1</th>\n",
       "      <td>NSW</td>\n",
       "      <td>2005-01-05</td>\n",
       "      <td>16.61125</td>\n",
       "      <td>322.475000</td>\n",
       "      <td>62.362500</td>\n",
       "      <td>85.500000</td>\n",
       "      <td>8.088793</td>\n",
       "      <td>65.428571</td>\n",
       "      <td>8</td>\n",
       "      <td>R</td>\n",
       "      <td>2005</td>\n",
       "      <td>1</td>\n",
       "    </tr>\n",
       "    <tr>\n",
       "      <th>2</th>\n",
       "      <td>NSW</td>\n",
       "      <td>2005-01-06</td>\n",
       "      <td>5.52000</td>\n",
       "      <td>325.266667</td>\n",
       "      <td>38.400000</td>\n",
       "      <td>78.333333</td>\n",
       "      <td>3.214550</td>\n",
       "      <td>10.333333</td>\n",
       "      <td>3</td>\n",
       "      <td>R</td>\n",
       "      <td>2005</td>\n",
       "      <td>1</td>\n",
       "    </tr>\n",
       "    <tr>\n",
       "      <th>3</th>\n",
       "      <td>NSW</td>\n",
       "      <td>2005-01-07</td>\n",
       "      <td>6.26400</td>\n",
       "      <td>313.870000</td>\n",
       "      <td>33.800000</td>\n",
       "      <td>92.200000</td>\n",
       "      <td>7.529940</td>\n",
       "      <td>56.700000</td>\n",
       "      <td>5</td>\n",
       "      <td>R</td>\n",
       "      <td>2005</td>\n",
       "      <td>1</td>\n",
       "    </tr>\n",
       "    <tr>\n",
       "      <th>4</th>\n",
       "      <td>NSW</td>\n",
       "      <td>2005-01-08</td>\n",
       "      <td>5.40000</td>\n",
       "      <td>337.383333</td>\n",
       "      <td>122.533333</td>\n",
       "      <td>91.000000</td>\n",
       "      <td>7.937254</td>\n",
       "      <td>63.000000</td>\n",
       "      <td>3</td>\n",
       "      <td>R</td>\n",
       "      <td>2005</td>\n",
       "      <td>1</td>\n",
       "    </tr>\n",
       "  </tbody>\n",
       "</table>\n",
       "</div>"
      ],
      "text/plain": [
       "  Region       Date  Estimated_fire_area  Mean_estimated_fire_brightness  \\\n",
       "0    NSW 2005-01-04              8.68000                      312.266667   \n",
       "1    NSW 2005-01-05             16.61125                      322.475000   \n",
       "2    NSW 2005-01-06              5.52000                      325.266667   \n",
       "3    NSW 2005-01-07              6.26400                      313.870000   \n",
       "4    NSW 2005-01-08              5.40000                      337.383333   \n",
       "\n",
       "   Mean_estimated_fire_radiative_power  Mean_confidence  Std_confidence  \\\n",
       "0                            42.400000        78.666667        2.886751   \n",
       "1                            62.362500        85.500000        8.088793   \n",
       "2                            38.400000        78.333333        3.214550   \n",
       "3                            33.800000        92.200000        7.529940   \n",
       "4                           122.533333        91.000000        7.937254   \n",
       "\n",
       "   Var_confidence  Count Replaced  Year Month  \n",
       "0        8.333333      3        R  2005     1  \n",
       "1       65.428571      8        R  2005     1  \n",
       "2       10.333333      3        R  2005     1  \n",
       "3       56.700000      5        R  2005     1  \n",
       "4       63.000000      3        R  2005     1  "
      ]
     },
     "execution_count": 5,
     "metadata": {},
     "output_type": "execute_result"
    }
   ],
   "source": [
    "\"\"\"\n",
    "Cell generated by Data Wrangler.\n",
    "\"\"\"\n",
    "def clean_data(df: pd.DataFrame):\n",
    "    # Change column type to datetime64[ns] for column: 'Date'\n",
    "    df = df.astype({'Date': 'datetime64[ns]'})\n",
    "    # Created column 'Year' from formula\n",
    "    df['Year'] = df['Date'].dt.year\n",
    "    # Created column 'Month' from formula\n",
    "    df['Month'] = df['Date'].dt.month\n",
    "    # Change column type to category for column: 'Month'\n",
    "    df = df.astype({'Month': 'category'})\n",
    "    # Change column type to category for column: 'Replaced'\n",
    "    df = df.astype({'Replaced': 'category'})\n",
    "    # Change column type to category for column: 'Region'\n",
    "    df = df.astype({'Region': 'category'})\n",
    "    # Change column type to int16 for column: 'Count'\n",
    "    df = df.astype({'Count': 'int16'})\n",
    "    return df\n",
    "\n",
    "df_clean = clean_data(df.copy())\n",
    "df_clean.head()"
   ]
  },
  {
   "cell_type": "code",
   "execution_count": 6,
   "metadata": {},
   "outputs": [
    {
     "data": {
      "text/html": [
       "<div>\n",
       "<style scoped>\n",
       "    .dataframe tbody tr th:only-of-type {\n",
       "        vertical-align: middle;\n",
       "    }\n",
       "\n",
       "    .dataframe tbody tr th {\n",
       "        vertical-align: top;\n",
       "    }\n",
       "\n",
       "    .dataframe thead th {\n",
       "        text-align: right;\n",
       "    }\n",
       "</style>\n",
       "<table border=\"1\" class=\"dataframe\">\n",
       "  <thead>\n",
       "    <tr style=\"text-align: right;\">\n",
       "      <th></th>\n",
       "      <th>Total</th>\n",
       "      <th>Count</th>\n",
       "      <th>Date</th>\n",
       "      <th>Estimated_fire_area</th>\n",
       "      <th>Index</th>\n",
       "      <th>Mean_confidence</th>\n",
       "      <th>Mean_estimated_fire_brightness</th>\n",
       "      <th>Mean_estimated_fire_radiative_power</th>\n",
       "      <th>Month</th>\n",
       "      <th>Region</th>\n",
       "      <th>Replaced</th>\n",
       "      <th>Std_confidence</th>\n",
       "      <th>Var_confidence</th>\n",
       "      <th>Year</th>\n",
       "    </tr>\n",
       "  </thead>\n",
       "  <tbody>\n",
       "    <tr>\n",
       "      <th>df</th>\n",
       "      <td>5680725.0</td>\n",
       "      <td>211248.0</td>\n",
       "      <td>1530228.0</td>\n",
       "      <td>211248.0</td>\n",
       "      <td>132.0</td>\n",
       "      <td>211248.0</td>\n",
       "      <td>211248.0</td>\n",
       "      <td>211248.0</td>\n",
       "      <td>NaN</td>\n",
       "      <td>1351329.0</td>\n",
       "      <td>1320300.0</td>\n",
       "      <td>211248.0</td>\n",
       "      <td>211248.0</td>\n",
       "      <td>NaN</td>\n",
       "    </tr>\n",
       "    <tr>\n",
       "      <th>df_clean</th>\n",
       "      <td>1717672.0</td>\n",
       "      <td>52812.0</td>\n",
       "      <td>211248.0</td>\n",
       "      <td>211248.0</td>\n",
       "      <td>132.0</td>\n",
       "      <td>211248.0</td>\n",
       "      <td>211248.0</td>\n",
       "      <td>211248.0</td>\n",
       "      <td>26690.0</td>\n",
       "      <td>27064.0</td>\n",
       "      <td>26614.0</td>\n",
       "      <td>211248.0</td>\n",
       "      <td>211248.0</td>\n",
       "      <td>105624.0</td>\n",
       "    </tr>\n",
       "  </tbody>\n",
       "</table>\n",
       "</div>"
      ],
      "text/plain": [
       "              Total     Count       Date  Estimated_fire_area  Index  \\\n",
       "df        5680725.0  211248.0  1530228.0             211248.0  132.0   \n",
       "df_clean  1717672.0   52812.0   211248.0             211248.0  132.0   \n",
       "\n",
       "          Mean_confidence  Mean_estimated_fire_brightness  \\\n",
       "df               211248.0                        211248.0   \n",
       "df_clean         211248.0                        211248.0   \n",
       "\n",
       "          Mean_estimated_fire_radiative_power    Month     Region   Replaced  \\\n",
       "df                                   211248.0      NaN  1351329.0  1320300.0   \n",
       "df_clean                             211248.0  26690.0    27064.0    26614.0   \n",
       "\n",
       "          Std_confidence  Var_confidence      Year  \n",
       "df              211248.0        211248.0       NaN  \n",
       "df_clean        211248.0        211248.0  105624.0  "
      ]
     },
     "execution_count": 6,
     "metadata": {},
     "output_type": "execute_result"
    }
   ],
   "source": [
    "def display_mem_usage(df1: pd.DataFrame, df2: pd.DataFrame) -> pd.DataFrame:\n",
    "    mem_usage = pd.DataFrame({'df': df.memory_usage(deep=True), 'df_clean': df_clean.memory_usage(deep=True)})\n",
    "    total = mem_usage.sum().to_frame().T\n",
    "    total.index = ['Total']\n",
    "\n",
    "    return pd.concat([total, mem_usage]).T\n",
    "\n",
    "display_mem_usage(df, df_clean)"
   ]
  }
 ],
 "metadata": {
  "kernelspec": {
   "display_name": ".venv",
   "language": "python",
   "name": "python3"
  },
  "language_info": {
   "codemirror_mode": {
    "name": "ipython",
    "version": 3
   },
   "file_extension": ".py",
   "mimetype": "text/x-python",
   "name": "python",
   "nbconvert_exporter": "python",
   "pygments_lexer": "ipython3",
   "version": "3.12.2"
  }
 },
 "nbformat": 4,
 "nbformat_minor": 2
}
