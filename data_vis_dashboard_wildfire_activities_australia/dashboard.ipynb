{
 "cells": [
  {
   "cell_type": "markdown",
   "metadata": {
    "id": "RFA8bnO3Tkm_"
   },
   "source": [
    "# Australian Wildfires Dashboard"
   ]
  },
  {
   "cell_type": "markdown",
   "metadata": {
    "id": "plqBF_WxTknB"
   },
   "source": [
    "## Components of Dashboard and Expected layout"
   ]
  },
  {
   "cell_type": "markdown",
   "metadata": {
    "id": "noyPIw7vTknB"
   },
   "source": [
    "### Components of the Dashboard"
   ]
  },
  {
   "cell_type": "markdown",
   "metadata": {
    "id": "qcyWtU_fTknB"
   },
   "source": [
    "1. Select Region\n",
    "2. Select Year\n",
    "3. Divison to display\n",
    "    - Pie Chart to display Monthly Average Estimated Fire Area for the selected Regions in the selected Year\n",
    "    - Bar Chart to display Monthly Average Count of Pixels for Presumed Vegetation Fires for the selected Regions in the selected Year"
   ]
  },
  {
   "cell_type": "markdown",
   "metadata": {
    "id": "jzzemeM2TknC"
   },
   "source": [
    "### Expected Layout"
   ]
  },
  {
   "cell_type": "markdown",
   "metadata": {
    "id": "F0pbmB3UTknC"
   },
   "source": [
    "![Final Dashboard](https://raw.githubusercontent.com/sduzair/python/data_vis_dashboard_wildfire_activities_australia/data_vis_dashboard_wildfire_activities_australia/practice_ass_layout.png)"
   ]
  },
  {
   "cell_type": "markdown",
   "metadata": {
    "id": "gDiAdvSJTknC"
   },
   "source": [
    "### Requirements to create the expected result"
   ]
  },
  {
   "cell_type": "markdown",
   "metadata": {
    "id": "HPTHInuyTknD"
   },
   "source": [
    "- A dropdown menu: For choosing year\n",
    "- A radioitem for choosing the Region\n",
    "- The layout will be designed as follows:\n",
    "- An outer division with two inner divisions (as shown in the expected layout)\n",
    "- One of the inner divisions will have information about the radioitem and dropdown (which are the input) and the other one is for adding graphs(the 2 output graphs).\n",
    "- Callback function to compute data, create graph and return to the layout."
   ]
  },
  {
   "cell_type": "markdown",
   "metadata": {
    "id": "ZK8ygBQ5TknD"
   },
   "source": [
    "### To do:"
   ]
  },
  {
   "cell_type": "markdown",
   "metadata": {
    "id": "SlTMhpxTTknD"
   },
   "source": [
    "1. Import required libraries and read the dataset\n",
    "2. Create an application layout\n",
    "3. Add title to the dashboard using HTML H1 component\n",
    "4. Add a radioitem using dcc.RaioItems and dropdown using dcc.dropdown\n",
    "5. Add the pie chart and bar chart core graph components.\n",
    "6. Run the app"
   ]
  },
  {
   "cell_type": "markdown",
   "metadata": {
    "id": "V8JizWTXTknD"
   },
   "source": [
    "## Dependencies"
   ]
  },
  {
   "cell_type": "markdown",
   "metadata": {
    "id": "zFgGlLCMUGDr"
   },
   "source": [
    "```bash\n",
    "cat python_version.txt\n",
    "Python 3.10.12\n"
   ]
  },
  {
   "cell_type": "code",
   "execution_count": null,
   "metadata": {
    "colab": {
     "base_uri": "https://localhost:8080/"
    },
    "id": "yC1EZp1GU3Sr",
    "outputId": "de8802f1-56b9-4bfb-f635-ab19a1153cea"
   },
   "outputs": [],
   "source": [
    "!python --version"
   ]
  },
  {
   "cell_type": "code",
   "execution_count": null,
   "metadata": {
    "id": "9IR7bHMPTknD"
   },
   "outputs": [],
   "source": [
    "%pip install -q pandas==2.0.3 plotly==5.15.0 dash==2.16.1 dash-bootstrap-components"
   ]
  },
  {
   "cell_type": "markdown",
   "metadata": {
    "id": "-gfdDJKvTknE"
   },
   "source": [
    "## Imports"
   ]
  },
  {
   "cell_type": "code",
   "execution_count": null,
   "metadata": {
    "id": "oytpFECqTknE"
   },
   "outputs": [],
   "source": [
    "import pandas as pd\n",
    "import plotly.graph_objects as go\n",
    "import plotly.express as px\n",
    "from dash import Dash, html, dcc, callback, Output, Input\n",
    "import dash_bootstrap_components as dbc\n",
    "import warnings\n",
    "%config InlineBackend.figure_format = 'retina'\n",
    "\n",
    "warnings.filterwarnings('ignore')"
   ]
  },
  {
   "cell_type": "markdown",
   "metadata": {
    "id": "-JSzwksYTknE"
   },
   "source": [
    "## Loading data"
   ]
  },
  {
   "cell_type": "code",
   "execution_count": null,
   "metadata": {
    "id": "Ufeez_tFTknE"
   },
   "outputs": [],
   "source": [
    "# Read the wildfire data into pandas dataframe\n",
    "df =  pd.read_csv('https://cf-courses-data.s3.us.cloud-object-storage.appdomain.cloud/IBMDeveloperSkillsNetwork-DV0101EN-SkillsNetwork/Data%20Files/Historical_Wildfires.csv')"
   ]
  },
  {
   "cell_type": "markdown",
   "metadata": {
    "id": "dWpE9gijTknE"
   },
   "source": [
    "## Data wrangling"
   ]
  },
  {
   "cell_type": "code",
   "execution_count": null,
   "metadata": {
    "colab": {
     "base_uri": "https://localhost:8080/",
     "height": 313
    },
    "id": "4Ur7CUicTknF",
    "outputId": "6c3e7300-9719-4e81-85dd-dde006fd6275"
   },
   "outputs": [],
   "source": [
    "\"\"\"\n",
    "Cell generated by Data Wrangler.\n",
    "\"\"\"\n",
    "def clean_data(df: pd.DataFrame):\n",
    "    # Change column type to datetime64[ns] for column: 'Date'\n",
    "    df = df.astype({'Date': 'datetime64[ns]'})\n",
    "    # Created column 'Year' from formula\n",
    "    df['Year'] = df['Date'].dt.year\n",
    "    # Created column 'Month' from formula\n",
    "    df['Month'] = df['Date'].dt.month\n",
    "    # Change column type to category for column: 'Month'\n",
    "    df = df.astype({'Month': 'category'})\n",
    "    # Change column type to category for column: 'Replaced'\n",
    "    df = df.astype({'Replaced': 'category'})\n",
    "    # Change column type to category for column: 'Region'\n",
    "    df = df.astype({'Region': 'category'})\n",
    "    # Change column type to int16 for column: 'Count'\n",
    "    df = df.astype({'Count': 'int16'})\n",
    "    return df\n",
    "\n",
    "df_clean = clean_data(df.copy())\n",
    "df_clean.head()"
   ]
  },
  {
   "cell_type": "code",
   "execution_count": null,
   "metadata": {
    "colab": {
     "base_uri": "https://localhost:8080/",
     "height": 132
    },
    "id": "oiufSl5YTknF",
    "outputId": "cd397a39-05f2-44f6-e5c9-29cd8c641596"
   },
   "outputs": [],
   "source": [
    "def display_mem_usage(df1: pd.DataFrame, df2: pd.DataFrame) -> pd.DataFrame:\n",
    "    mem_usage = pd.DataFrame({'df': df.memory_usage(deep=True), 'df_clean': df_clean.memory_usage(deep=True)})\n",
    "    total = mem_usage.sum().to_frame().T\n",
    "    total.index = ['Total']\n",
    "\n",
    "    return pd.concat([total, mem_usage]).T\n",
    "\n",
    "display_mem_usage(df, df_clean)"
   ]
  },
  {
   "cell_type": "markdown",
   "metadata": {
    "id": "PZbgtuO5LBXF"
   },
   "source": [
    "## Pie Chart to display Monthly Average Estimated Fire Area for the selected Regions in the selected Year"
   ]
  },
  {
   "cell_type": "code",
   "execution_count": null,
   "metadata": {
    "colab": {
     "base_uri": "https://localhost:8080/",
     "height": 542
    },
    "id": "FTx3e4izZPbE",
    "outputId": "9aceab6b-0b0d-4bad-f0d2-c20191f5e811"
   },
   "outputs": [],
   "source": [
    "# Pie Chart to display Monthly Average Estimated Fire Area for the selected Regions in the selected Year\n",
    "month_map = {1:'Jan', 2:'Feb', 3:'March', 4:'April', 5:'May', 6:'June', 7:'July', 8:'August', 9:'Sept', 10:'Oct', 11:'Nov', 12:'Dec'}\n",
    "\n",
    "def avg_efa_by_month_pie(df_avg_efa_by_month: pd.DataFrame, year=2005, region='NSW') -> go.Figure:\n",
    "  df_for_year_reg = df_clean[(df_avg_efa_by_month['Year'] == year) & (df_avg_efa_by_month['Region'] == region)]\n",
    "  df_avg_efa_by_month = df_for_year_reg.groupby('Month')['Estimated_fire_area'].mean().reset_index()\n",
    "  df_avg_efa_by_month['Month label'] = df_avg_efa_by_month['Month'].map(month_map)\n",
    "\n",
    "  return px.pie(\n",
    "      data_frame=df_avg_efa_by_month,\n",
    "      names='Month label',\n",
    "      values='Estimated_fire_area',\n",
    "      title=f'{region}: Monthly Average Estimated Fire Area in the Year {year}')\n",
    "\n",
    "avg_efa_by_month_pie(df_clean)\n"
   ]
  },
  {
   "cell_type": "markdown",
   "metadata": {
    "id": "rlkXfEq0KzGi"
   },
   "source": [
    "## Bar Chart to display Monthly Average Count of Pixels for Presumed Vegetation Fires for the selected Regions in the selected Year"
   ]
  },
  {
   "cell_type": "code",
   "execution_count": null,
   "metadata": {
    "colab": {
     "base_uri": "https://localhost:8080/",
     "height": 542
    },
    "id": "dYw6ycIVKz2N",
    "outputId": "5b082251-41cd-42cb-8217-e091b6f2ccf6"
   },
   "outputs": [],
   "source": [
    "# Bar Chart to display Monthly Average Count of Pixels for Presumed Vegetation Fires for the selected Regions in the selected Year\n",
    "def avg_count_by_month_bar(df: pd.DataFrame, year=2005, region='NSW') -> go.Figure:\n",
    "  df_for_year_reg = df[(df['Year'] == year) & (df['Region'] == region)]\n",
    "  df_avg_count_by_month = df_for_year_reg.groupby('Month')['Count'].mean().reset_index()\n",
    "  df_avg_count_by_month['Month label'] = df_avg_count_by_month['Month'].map(month_map)\n",
    "\n",
    "  return px.bar(\n",
    "      data_frame=df_avg_count_by_month,\n",
    "      x='Month label',\n",
    "      y='Count',\n",
    "      title=f'{region}: Monthly Average Count of Pixels for Presumed Vegetation Fires in the year {year}'\n",
    "  )\n",
    "\n",
    "avg_count_by_month_bar(df_clean)"
   ]
  },
  {
   "cell_type": "markdown",
   "metadata": {
    "id": "Z0AOAfZYRbUf"
   },
   "source": [
    "## Dash App"
   ]
  },
  {
   "cell_type": "code",
   "execution_count": null,
   "metadata": {
    "colab": {
     "base_uri": "https://localhost:8080/",
     "height": 672
    },
    "id": "yzSdwgr1SNpX",
    "outputId": "75ee5d22-8ac3-4b26-e676-09cf2c6525e9"
   },
   "outputs": [],
   "source": [
    "# Initialize the app - incorporate a Dash Bootstrap theme\n",
    "external_stylesheets = [dbc.themes.CERULEAN]\n",
    "app = Dash(__name__, external_stylesheets=external_stylesheets)\n",
    "\n",
    "app.layout = dbc.Container([\n",
    "  dbc.Row([html.H1('Austrailan Wildfires Dashboard', className=\"text-primary text-center fs-3\")]),\n",
    "  dbc.Row([\n",
    "    dbc.Label(\"Region\"),\n",
    "    dbc.RadioItems(options=[{\"label\": x, \"value\": x} for x in df_clean['Region'].unique()], value='NSW', inline=True, id='radio-region')\n",
    "  ]),\n",
    "  dbc.Row([\n",
    "    dbc.Label(\"Year\"),\n",
    "    dcc.Dropdown(df_clean['Year'].unique(), value='2005', id='dropdown-year'),\n",
    "  ]),\n",
    "  dbc.Row([\n",
    "    dbc.Col([dcc.Graph(figure={}, id='fig-pie')], width=6),\n",
    "    dbc.Col([dcc.Graph(figure={}, id='fig-bar')], width=6),\n",
    "  ]),\n",
    "], fluid=True)\n",
    "\n",
    "@callback(\n",
    "  Output('fig-pie', 'figure'),\n",
    "  Output('fig-bar', 'figure'),\n",
    "  Input('dropdown-year', 'value'),\n",
    "  Input('radio-region', 'value')\n",
    ")\n",
    "def update_graph(year, region):\n",
    "  df_pie = avg_efa_by_month_pie(df_clean, year, region)\n",
    "  df_bar = avg_count_by_month_bar(df_clean, year, region)\n",
    "  return df_pie, df_bar\n",
    "\n",
    "if __name__ == '__main__':\n",
    "  app.run(debug=True)"
   ]
  }
 ],
 "metadata": {
  "colab": {
   "provenance": [],
   "toc_visible": true
  },
  "kernelspec": {
   "display_name": ".venv",
   "language": "python",
   "name": "python3"
  },
  "language_info": {
   "codemirror_mode": {
    "name": "ipython",
    "version": 3
   },
   "file_extension": ".py",
   "mimetype": "text/x-python",
   "name": "python",
   "nbconvert_exporter": "python",
   "pygments_lexer": "ipython3",
   "version": "3.12.2"
  }
 },
 "nbformat": 4,
 "nbformat_minor": 0
}
