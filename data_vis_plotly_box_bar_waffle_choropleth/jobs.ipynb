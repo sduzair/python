{
 "cells": [
  {
   "cell_type": "markdown",
   "metadata": {},
   "source": [
    "## Dependencies"
   ]
  },
  {
   "cell_type": "code",
   "execution_count": null,
   "metadata": {},
   "outputs": [],
   "source": [
    "# %pip install -q numpy pandas plotly nbformat matplotlib pywaffle\n",
    "# !python --version > python_version.txt\n",
    "# %pip freeze > requirements.txt\n",
    "%pip install -q -r requirements.txt"
   ]
  },
  {
   "cell_type": "markdown",
   "metadata": {},
   "source": [
    "## Imports"
   ]
  },
  {
   "cell_type": "code",
   "execution_count": null,
   "metadata": {},
   "outputs": [],
   "source": [
    "import pandas as pd\n",
    "import plotly.express as px\n",
    "import plotly.graph_objects as go\n",
    "import numpy as np\n",
    "import matplotlib.pyplot as plt\n",
    "from pywaffle import Waffle"
   ]
  },
  {
   "cell_type": "code",
   "execution_count": null,
   "metadata": {},
   "outputs": [],
   "source": [
    "df = pd.read_csv('jobs_in_data_2024.csv')\n",
    "df.head()"
   ]
  },
  {
   "cell_type": "markdown",
   "metadata": {},
   "source": [
    "## Data Quality"
   ]
  },
  {
   "cell_type": "markdown",
   "metadata": {},
   "source": [
    "### Missing values"
   ]
  },
  {
   "cell_type": "code",
   "execution_count": null,
   "metadata": {},
   "outputs": [],
   "source": [
    "missing = df.isna().sum()\n",
    "pd.DataFrame({'Missing': missing})"
   ]
  },
  {
   "cell_type": "markdown",
   "metadata": {},
   "source": [
    "### Static Values"
   ]
  },
  {
   "cell_type": "code",
   "execution_count": null,
   "metadata": {},
   "outputs": [],
   "source": [
    "_ = df.isna().sum()\n",
    "static = _ == 1\n",
    "pd.DataFrame({'Is static?': static})"
   ]
  },
  {
   "cell_type": "markdown",
   "metadata": {},
   "source": [
    "## Data Standardization - Salaries in USD"
   ]
  },
  {
   "cell_type": "code",
   "execution_count": null,
   "metadata": {},
   "outputs": [],
   "source": [
    "# In this case salaries are already standardized to USD!\n",
    "df[['salary', 'salary_currency', 'salary_in_usd']].head(10)"
   ]
  },
  {
   "cell_type": "markdown",
   "metadata": {},
   "source": [
    "## Exploratory Data Analysis - EDA"
   ]
  },
  {
   "cell_type": "markdown",
   "metadata": {},
   "source": [
    "### Numeric features"
   ]
  },
  {
   "cell_type": "code",
   "execution_count": null,
   "metadata": {},
   "outputs": [],
   "source": [
    "df.describe()"
   ]
  },
  {
   "cell_type": "markdown",
   "metadata": {},
   "source": [
    "### Categorical features"
   ]
  },
  {
   "cell_type": "code",
   "execution_count": null,
   "metadata": {},
   "outputs": [],
   "source": [
    "df.describe(include=[object])"
   ]
  },
  {
   "cell_type": "markdown",
   "metadata": {},
   "source": [
    "### Box Plots\n",
    "\n",
    "Distributions of a continuous variable (here salary) across different categories or groups."
   ]
  },
  {
   "cell_type": "markdown",
   "metadata": {},
   "source": [
    "#### Distribution of salary"
   ]
  },
  {
   "cell_type": "code",
   "execution_count": null,
   "metadata": {},
   "outputs": [],
   "source": [
    "fig = go.Figure()\n",
    "fig.add_trace(go.Box(\n",
    "    y=df['salary_in_usd'],\n",
    "    boxpoints='outliers', # only outliers\n",
    "    jitter=0.3\n",
    "))\n",
    "# Add labels and title\n",
    "fig.update_layout(\n",
    "    title='Distribution of Salary',\n",
    "    xaxis_title='All Employees',\n",
    "    yaxis_title='Salary (USD)',\n",
    ")"
   ]
  },
  {
   "cell_type": "markdown",
   "metadata": {},
   "source": [
    "#### Outliers in Salary distribution"
   ]
  },
  {
   "cell_type": "code",
   "execution_count": null,
   "metadata": {},
   "outputs": [],
   "source": [
    "# Calculate the first quartile (Q1), third quartile (Q3), and the interquartile range (IQR)\n",
    "Q1 = df['salary_in_usd'].quantile(0.25)\n",
    "Q3 = df['salary_in_usd'].quantile(0.75)\n",
    "IQR = Q3 - Q1\n",
    "\n",
    "# Identify the outlier rows\n",
    "df_top = df[df['salary_in_usd'] > (Q3 + 1.5 * IQR)]\\\n",
    "    .sort_values('salary_in_usd', ascending=False)\\\n",
    "        .reset_index(drop=True)\n",
    "\n",
    "df_top.head()"
   ]
  },
  {
   "cell_type": "markdown",
   "metadata": {},
   "source": [
    "##### Waffle chart of highest paid employees"
   ]
  },
  {
   "cell_type": "code",
   "execution_count": null,
   "metadata": {},
   "outputs": [],
   "source": [
    "df_top_by_country = df_top.loc[:, ['employee_residence', 'salary']].groupby('employee_residence').count()\n",
    "df_top_by_country\n",
    "with plt.style.context('seaborn-v0_8-bright'):\n",
    "    fig = plt.figure(\n",
    "        FigureClass = Waffle,\n",
    "        rows = 20, columns = 30, #pass the number of rows and columns for the waffle \n",
    "        values = df_top_by_country['salary'], #pass the data to be used for display\n",
    "        legend = {\n",
    "            'labels': [f\"{k} ({v})\" for k, v in zip(df_top_by_country.index.values,df_top_by_country.salary)],\n",
    "            'loc': 'upper right', \n",
    "            # 'bbox_to_anchor':(0,-0.2),\n",
    "            'ncol': 4,\n",
    "            'prop': {'size': 16}\n",
    "        },\n",
    "        figsize=(16,9)\n",
    "        #notice the use of list comprehension for creating labels \n",
    "        #from index and total of the dataset\n",
    "    )"
   ]
  },
  {
   "cell_type": "markdown",
   "metadata": {},
   "source": [
    "#### Distribution of salary across experience level"
   ]
  },
  {
   "cell_type": "code",
   "execution_count": null,
   "metadata": {},
   "outputs": [],
   "source": [
    "# distribution of salary across experience_level, job_title, job_category, company_size, company_location\n",
    "category = 'experience_level'\n",
    "df_by = df.loc[:, [category, 'salary_in_usd']].groupby(category).median().reset_index()\n",
    "df_by.head()\n",
    "\n",
    "fig = go.Figure()\n",
    "fig.add_trace(go.Bar(y=df_by['salary_in_usd'], x=df_by[category]))\n",
    "# Add labels and title\n",
    "fig.update_layout(\n",
    "    title=f'Distribution of Salary across {category.capitalize().replace('_', ' ')}',\n",
    "    xaxis_title=category.capitalize().replace('_', ' '),\n",
    "    yaxis_title='Salary (USD)',\n",
    ")"
   ]
  },
  {
   "cell_type": "markdown",
   "metadata": {},
   "source": [
    "## Geospatial Maps"
   ]
  },
  {
   "cell_type": "code",
   "execution_count": null,
   "metadata": {},
   "outputs": [],
   "source": [
    "from urllib.request import urlopen\n",
    "import json\n",
    "\n",
    "world_geo = r'https://cf-courses-data.s3.us.cloud-object-storage.appdomain.cloud/IBMDeveloperSkillsNetwork-DV0101EN-SkillsNetwork/Data%20Files/world_countries.json'\n",
    "\n",
    "with urlopen(world_geo) as response:\n",
    "    geodata = json.load(response)"
   ]
  },
  {
   "cell_type": "markdown",
   "metadata": {},
   "source": [
    "### Transform countries in 'employee_residence' to 'geodata' like"
   ]
  },
  {
   "cell_type": "code",
   "execution_count": null,
   "metadata": {},
   "outputs": [],
   "source": [
    "\"\"\"\n",
    "Cell generated by Data Wrangler.\n",
    "\"\"\"\n",
    "def clean_data(df):\n",
    "    # Replace all instances of \"Bolivia, Plurinational State of\" with \"Bolivia, Bosnia and Herzegovina, Botswana\" in column: 'employee_residence'\n",
    "    df['employee_residence'] = df['employee_residence'].str.replace(\"Bolivia, Plurinational State of\", \"Bolivia, Bosnia and Herzegovina, Botswana\", case=False, regex=False)\n",
    "    # Replace all instances of \"Bosnia and Herzegovina\" with \"Bolivia, Bosnia and Herzegovina, Botswana\" in column: 'employee_residence'\n",
    "    df['employee_residence'] = df['employee_residence'].str.replace(\"Bosnia and Herzegovina\", \"Bolivia, Bosnia and Herzegovina, Botswana\", case=False, regex=False)\n",
    "    # Replace all instances of \"Iran, Islamic Republic of\" with \"Iran\" in column: 'employee_residence'\n",
    "    df['employee_residence'] = df['employee_residence'].str.replace(\"Iran, Islamic Republic of\", \"Iran\", case=False, regex=False)\n",
    "    # Replace all instances of \"Korea, Republic of\" with \"South Korea\" in column: 'employee_residence'\n",
    "    df['employee_residence'] = df['employee_residence'].str.replace(\"Korea, Republic of\", \"South Korea\", case=False, regex=False)\n",
    "    # Replace all instances of \"Moldova, Republic of\" with \"Moldova\" in column: 'employee_residence'\n",
    "    df['employee_residence'] = df['employee_residence'].str.replace(\"Moldova, Republic of\", \"Moldova\", case=False, regex=False)\n",
    "    # Replace all instances of \"Serbia\" with \"Republic of Serbia\" in column: 'employee_residence'\n",
    "    df['employee_residence'] = df['employee_residence'].str.replace(\"Serbia\", \"Republic of Serbia\", case=False, regex=False)\n",
    "    # Replace all instances of \"Türkiye\" with \"Turkey\" in column: 'employee_residence'\n",
    "    df['employee_residence'] = df['employee_residence'].str.replace(\"Türkiye\", \"Turkey\", case=False, regex=False)\n",
    "    # Replace all instances of \"United States\" with \"United States of America\" in column: 'employee_residence'\n",
    "    df['employee_residence'] = df['employee_residence'].str.replace(\"United States\", \"United States of America\", case=False, regex=False)\n",
    "    # Replace all instances of \"Viet Nam\" with \"Vietnam\" in column: 'employee_residence'\n",
    "    df['employee_residence'] = df['employee_residence'].str.replace(\"Viet Nam\", \"Vietnam\", case=False, regex=False)\n",
    "    return df\n",
    "\n",
    "df_geo= clean_data(df.copy())"
   ]
  },
  {
   "cell_type": "code",
   "execution_count": null,
   "metadata": {},
   "outputs": [],
   "source": [
    "# Group by employee_residence and count\n",
    "df_geo_by_emp_res = df_geo.loc[:, ['employee_residence', 'salary_in_usd']].groupby('employee_residence').median().reset_index()\n",
    "df_geo_by_emp_res.rename(columns={'salary_in_usd': 'median_salary_in_usd'}, inplace=True)\n",
    "df_geo_by_emp_res.head()"
   ]
  },
  {
   "cell_type": "markdown",
   "metadata": {},
   "source": [
    "### 2024 Data Scientist Asia Median Salary"
   ]
  },
  {
   "cell_type": "code",
   "execution_count": null,
   "metadata": {},
   "outputs": [],
   "source": [
    "fig = px.choropleth(\n",
    "    geojson=geodata,\n",
    "    featureidkey=\"properties.name\",\n",
    "    data_frame=df_geo_by_emp_res, \n",
    "    locations=\"employee_residence\", \n",
    "    color=\"median_salary_in_usd\",\n",
    "    labels={'median_salary_in_usd':'Median salary (USD)'},\n",
    "    title='World Median salary for Data Scientists 2024'\n",
    "    # scope='asia'\n",
    ")\n",
    "fig.update_geos(projection_type=\"natural earth\")"
   ]
  }
 ],
 "metadata": {
  "kernelspec": {
   "display_name": ".venv",
   "language": "python",
   "name": "python3"
  },
  "language_info": {
   "codemirror_mode": {
    "name": "ipython",
    "version": 3
   },
   "file_extension": ".py",
   "mimetype": "text/x-python",
   "name": "python",
   "nbconvert_exporter": "python",
   "pygments_lexer": "ipython3",
   "version": "3.12.2"
  }
 },
 "nbformat": 4,
 "nbformat_minor": 2
}
