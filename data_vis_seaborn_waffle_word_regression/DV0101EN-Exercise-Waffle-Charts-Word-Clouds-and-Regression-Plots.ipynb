{
 "cells": [
  {
   "cell_type": "markdown",
   "id": "2ef2a773-d0ab-4262-aa10-a248caadb32f",
   "metadata": {},
   "source": [
    "<center>\n",
    "    <img src=\"https://cf-courses-data.s3.us.cloud-object-storage.appdomain.cloud/IBMDeveloperSkillsNetwork-DV0101EN-SkillsNetwork/labs/Module%204/logo.png\" width=\"300\" alt=\"cognitiveclass.ai logo\">\n",
    "</center>\n",
    "\n",
    "# Waffle Charts, Word Clouds, and Regression Plots\n",
    "\n",
    "Estimated time needed: **40** minutes\n",
    "\n",
    "## Objectives\n",
    "\n",
    "After completing this lab you will be able to:\n",
    "\n",
    "*   Create Word cloud and Waffle charts\n",
    "*   Create regression plots with Seaborn library\n"
   ]
  },
  {
   "cell_type": "markdown",
   "id": "d2260fe5-cab4-4a3c-a467-a97ad86acc7d",
   "metadata": {},
   "source": [
    "## Table of Contents\n",
    "\n",
    "<div class=\"alert alert-block alert-info\" style=\"margin-top: 20px\">\n",
    "\n",
    "1.  [Import Libraries](#0)<br>\n",
    "2.  [Fetching Data](#1)<br>\n",
    "3.  [Waffle Charts](#3) <br>\n",
    "4.  [Word Clouds](#4) <br>\n",
    "5.  [Ploting with Seaborn](#5) <br>\n",
    "6.  [Regression Plots](#6) <br>\n",
    "\n",
    "</div>\n"
   ]
  },
  {
   "cell_type": "markdown",
   "metadata": {},
   "source": [
    "## Dependencies"
   ]
  },
  {
   "cell_type": "code",
   "execution_count": null,
   "metadata": {},
   "outputs": [],
   "source": [
    "# %pip install -q numpy pandas matplotlib seaborn wordcloud pywaffle\n",
    "# %pip freeze > requirements.txt\n",
    "# !python --version > python_version.txt\n",
    "%pip install -q -r requirements.txt"
   ]
  },
  {
   "cell_type": "markdown",
   "id": "410308c6-676b-45d2-a759-6f4fd7095111",
   "metadata": {},
   "source": [
    "# Import Libraries<a id=\"0\"></a>\n"
   ]
  },
  {
   "cell_type": "code",
   "execution_count": null,
   "id": "9d6abbcc-69d7-43dc-bec9-54e4ec4ff650",
   "metadata": {},
   "outputs": [],
   "source": [
    "#Import and setup matplotlib:\n",
    "%matplotlib inline\n",
    "\n",
    "import matplotlib as mpl\n",
    "import matplotlib.pyplot as plt\n",
    "import matplotlib.patches as mpatches # needed for waffle Charts\n",
    "\n",
    "# mpl.style.use('ggplot') # optional: for ggplot-like style\n",
    "\n",
    "#Import Primary Modules:\n",
    "import numpy as np  # useful for many scientific computing in Python\n",
    "import pandas as pd # primary data structure library\n",
    "from PIL import Image # converting images into arrays\n",
    "\n",
    "#import seaborn\n",
    "import seaborn as sns\n",
    "\n",
    "#import wordcloud\n",
    "import wordcloud\n",
    "\n",
    "#import Waffle from pywaffle\n",
    "from pywaffle import Waffle\n",
    "\n",
    "#import package and its set of stopwords\n",
    "from wordcloud import WordCloud, STOPWORDS\n",
    "\n",
    "print ('Wordcloud imported!')\n",
    "\n",
    "import warnings\n",
    "warnings.filterwarnings(\"ignore\", category=FutureWarning)\n",
    "\n",
    "# check for latest version of Matplotlib and seaborn\n",
    "print ('Matplotlib version: ', mpl.__version__) # >= 2.0.0\n",
    "print('Seaborn version: ', sns.__version__)\n",
    "print('WordCloud version: ', wordcloud.__version__)"
   ]
  },
  {
   "cell_type": "markdown",
   "id": "0d0fe609-aae5-4a11-80a4-9a0b5f10ef4c",
   "metadata": {},
   "source": [
    "# Fetching Data<a id=\"1\"></a>\n",
    "\n",
    "Toolkits: The course heavily relies on [*pandas*](http://pandas.pydata.org/?utm_medium=Exinfluencer&utm_source=Exinfluencer&utm_content=000026UJ&utm_term=10006555&utm_id=NA-SkillsNetwork-Channel-SkillsNetworkCoursesIBMDeveloperSkillsNetworkDV0101ENSkillsNetwork20297740-2021-01-01) and [*Numpy*](http://www.numpy.org/?utm_medium=Exinfluencer&utm_source=Exinfluencer&utm_content=000026UJ&utm_term=10006555&utm_id=NA-SkillsNetwork-Channel-SkillsNetworkCoursesIBMDeveloperSkillsNetworkDV0101ENSkillsNetwork20297740-2021-01-01) for data wrangling, analysis, and visualization. The primary plotting library we will explore in the course is [Matplotlib](http://matplotlib.org/?utm_medium=Exinfluencer&utm_source=Exinfluencer&utm_content=000026UJ&utm_term=10006555&utm_id=NA-SkillsNetwork-Channel-SkillsNetworkCoursesIBMDeveloperSkillsNetworkDV0101ENSkillsNetwork20297740-2021-01-01).\n",
    "\n",
    "Dataset: Immigration to Canada from 1980 to 2013 - [International migration flows to and from selected countries - The 2015 revision](https://www.un.org/development/desa/pd/data/international-migration-flows) from United Nation's website\n",
    "\n",
    "The dataset contains annual data on the flows of international migrants as recorded by the countries of destination. The data presents both inflows and outflows according to the place of birth, citizenship or place of previous / next residence both for foreigners and nationals. <br><br>In this lab, we will focus on the Canadian Immigration data and use the *already cleaned dataset*.<br><br>\n",
    "You can refer to the lab on data pre-processing wherein this dataset is cleaned for a quick refresh your Panads skill [Data pre-processing with Pandas](https://cf-courses-data.s3.us.cloud-object-storage.appdomain.cloud/IBMDeveloperSkillsNetwork-DV0101EN-SkillsNetwork/labs/v4/DV0101EN-Exercise-Dataset-Preprocessing-Exploring-with-Pandas.ipynb)\n",
    "\n"
   ]
  },
  {
   "cell_type": "markdown",
   "id": "5b590aa1-2328-4669-af7e-4171607a394c",
   "metadata": {},
   "source": [
    "Download the Canadian Immigration dataset and read it into a *pandas* dataframe.\n"
   ]
  },
  {
   "cell_type": "code",
   "execution_count": null,
   "id": "fca88ae9-8801-4397-99a3-5d5b0d11e298",
   "metadata": {},
   "outputs": [],
   "source": [
    "df_can = pd.read_csv('https://cf-courses-data.s3.us.cloud-object-storage.appdomain.cloud/IBMDeveloperSkillsNetwork-DV0101EN-SkillsNetwork/Data%20Files/Canada.csv')\n",
    "\n",
    "print('Data read into a pandas dataframe!')"
   ]
  },
  {
   "cell_type": "markdown",
   "id": "4d88c0ff-aaff-44d0-b513-fc1cf15d8567",
   "metadata": {},
   "source": [
    "Let's take a look at the first five items in our dataset\n"
   ]
  },
  {
   "cell_type": "code",
   "execution_count": null,
   "id": "58cc275e-b506-42b1-9427-23765c19c2c0",
   "metadata": {},
   "outputs": [],
   "source": [
    "df_can.head()"
   ]
  },
  {
   "cell_type": "markdown",
   "id": "71161d33-9808-4030-9741-cd8805e7496d",
   "metadata": {},
   "source": [
    "Let's find out how many entries there are in our dataset\n"
   ]
  },
  {
   "cell_type": "code",
   "execution_count": null,
   "id": "234784b0-ad6c-47d0-a8b4-48acd19a4dca",
   "metadata": {},
   "outputs": [],
   "source": [
    "# print the dimensions of the dataframe\n",
    "print(df_can.shape)"
   ]
  },
  {
   "cell_type": "code",
   "execution_count": null,
   "id": "3b3a715e-8769-40e4-90a5-228ef7435c0c",
   "metadata": {},
   "outputs": [],
   "source": [
    "#set Country as index\n",
    "df_can.set_index('Country', inplace=True)"
   ]
  },
  {
   "cell_type": "markdown",
   "id": "e0818a31-1b88-4a52-bc0c-2ca531726a2c",
   "metadata": {},
   "source": [
    "# Waffle Charts <a id=\"3\"></a>\n",
    "\n",
    "A `waffle chart` is an interesting visualization that is normally created to display progress toward goals. It is commonly an effective option when you are trying to add interesting visualization features to a visual that consists mainly of cells, such as an Excel dashboard.\n"
   ]
  },
  {
   "cell_type": "markdown",
   "id": "bdce8bd3-f6ea-43c8-8976-36c582ea719e",
   "metadata": {},
   "source": [
    "Let's revisit the previous case study about Denmark, Norway, and Sweden.\n"
   ]
  },
  {
   "cell_type": "code",
   "execution_count": null,
   "metadata": {},
   "outputs": [],
   "source": [
    "df_dsn = df_can.loc[['Denmark', 'Norway', 'Sweden']]\n",
    "df_dsn.head()"
   ]
  },
  {
   "cell_type": "markdown",
   "id": "bc096f56-76f9-45bc-a47a-59ea1ade195c",
   "metadata": {},
   "source": [
    "There seems to be a new Python package for generating `waffle charts` called [PyWaffle](https://github.com/ligyxy/PyWaffle), <br><br>Let's create the same waffle chart with **pywaffle** now\n"
   ]
  },
  {
   "cell_type": "code",
   "execution_count": null,
   "id": "9eb00360-d160-45bd-a7ff-b81a4b68d4e3",
   "metadata": {},
   "outputs": [],
   "source": [
    "\n",
    "#Set up the Waffle chart figure\n",
    "\n",
    "fig = plt.figure(FigureClass = Waffle,\n",
    "                 rows = 20, columns = 30, #pass the number of rows and columns for the waffle \n",
    "                 values = df_dsn['Total'], #pass the data to be used for display\n",
    "                 legend = {'labels': [f\"{k} ({v})\" for k, v in zip(df_dsn.index.values,df_dsn.Total)],\n",
    "                            'loc': 'lower left', 'bbox_to_anchor':(0,-0.1),'ncol': 3},\n",
    "                 #notice the use of list comprehension for creating labels \n",
    "                 #from index and total of the dataset\n",
    "                )\n",
    "\n",
    "#Display the waffle chart\n",
    "plt.show()"
   ]
  },
  {
   "cell_type": "markdown",
   "id": "61759f9c-9808-45e2-961e-dc563fbe7c5c",
   "metadata": {},
   "source": [
    "**Question:** Create a Waffle chart to dispaly the proportiona of China and Inida total immigrant contribution.\n"
   ]
  },
  {
   "cell_type": "code",
   "execution_count": null,
   "id": "f58afd18-a723-42e7-a22d-51fedc7d4f68",
   "metadata": {},
   "outputs": [],
   "source": [
    "series_china_ind = df_can.loc[['China', 'India'], 'Total']\n",
    "plt.figure(\n",
    "    FigureClass=Waffle, \n",
    "    values=series_china_ind, \n",
    "    rows=30, \n",
    "    columns=40, \n",
    "    legend = { \n",
    "        'labels': [f\"{k} ({v})\" for k, v in zip(df_dsn.index.values,df_dsn.Total)], \n",
    "    }\n",
    ")\n",
    "plt.show()\n"
   ]
  },
  {
   "cell_type": "markdown",
   "id": "ce3d8e3f-4943-4bd0-8591-2d0b400c94f0",
   "metadata": {},
   "source": [
    "<details><summary>Click here for a sample python solution</summary>\n",
    "\n",
    "```python\n",
    "    #hint\n",
    "    #create dataframe\n",
    "    data_CI = .............\n",
    "    #Set up the Waffle chart figure\n",
    "\n",
    "    fig = plt.figure(FigureClass = ............,\n",
    "                     rows = ........, columns =....., #pass the number of rows and columns for the waffle \n",
    "                     values = ........., #pass the data to be used for display\n",
    "                     cmap_name = 'tab20', #color scheme\n",
    "                     legend = {'labels':[.......],\n",
    "                                'loc': ........., 'bbox_to_anchor':(....),'ncol': 2}\n",
    "                     #notice the use of list comprehension for creating labels \n",
    "                     #from index and total of the dataset\n",
    "                    )\n",
    "\n",
    "    #Display the waffle chart\n",
    "    plt.show()\n",
    "```\n"
   ]
  },
  {
   "cell_type": "markdown",
   "id": "6f69f522-57d9-4923-82fe-6992153ea2c6",
   "metadata": {},
   "source": [
    "# Word Clouds <a id=\"4\"></a>\n",
    "\n",
    "`Word` clouds (also known as text clouds or tag clouds) work in a simple way: the more a specific word appears in a source of textual data (such as a speech, blog post, or database), the bigger and bolder it appears in the word cloud.\n"
   ]
  },
  {
   "cell_type": "markdown",
   "id": "cc4a530f-a172-4604-a74f-bd16c4b1a0d9",
   "metadata": {},
   "source": [
    "Luckily, a Python package already exists in Python for generating `word` clouds. The package, called `word_cloud` was developed by **Andreas Mueller**. You can learn more about the package by following this [link](https://github.com/amueller/word_cloud/).\n",
    "\n",
    "Let's use this package to learn how to generate a word cloud for a given text document.\n"
   ]
  },
  {
   "cell_type": "markdown",
   "id": "162a0281-4fc3-4c91-a33f-31dede8b02ee",
   "metadata": {},
   "source": [
    "`Word` clouds are commonly used to perform high-level analysis and visualization of text data. Accordinly, let's digress from the immigration dataset and work with an example that involves analyzing text data. Let's try to analyze a short novel written by **Lewis Carroll** titled *Alice's Adventures in Wonderland*. Let's go ahead and download a *.txt* file of the novel.\n"
   ]
  },
  {
   "cell_type": "code",
   "execution_count": null,
   "id": "ec49559c-7fd7-4eed-a95c-4eceb58f187c",
   "metadata": {},
   "outputs": [],
   "source": [
    "import urllib\n",
    "\n",
    "# # open the file and read it into a variable alice_novel\n",
    "alice_novel = urllib.request.urlopen('https://cf-courses-data.s3.us.cloud-object-storage.appdomain.cloud/IBMDeveloperSkillsNetwork-DV0101EN-SkillsNetwork/Data%20Files/alice_novel.txt').read().decode(\"utf-8\")"
   ]
  },
  {
   "cell_type": "markdown",
   "id": "0ad16f3d-c170-4b90-9d68-71d250adbd5e",
   "metadata": {},
   "source": [
    "Next, let's use the stopwords that we imported from `word_cloud`. We use the function *set* to remove any redundant stopwords.\n"
   ]
  },
  {
   "cell_type": "code",
   "execution_count": null,
   "id": "cd5ac649-afa8-4a61-89a4-62986e680cec",
   "metadata": {},
   "outputs": [],
   "source": [
    "stopwords = set(STOPWORDS)"
   ]
  },
  {
   "cell_type": "markdown",
   "id": "c9e405bd-112e-4791-931f-314584f884d4",
   "metadata": {},
   "source": [
    "Create a word cloud object and generate a word cloud. For simplicity, let's generate a word cloud using only the first 2000 words in the novel.\n"
   ]
  },
  {
   "cell_type": "code",
   "execution_count": null,
   "id": "2e48516b-ba78-4599-83d0-4662c9148a72",
   "metadata": {},
   "outputs": [],
   "source": [
    "#if you get attribute error while generating worldcloud, upgrade Pillow and numpy using below code\n",
    "#%pip install --upgrade Pillow \n",
    "#%pip install --upgrade numpy"
   ]
  },
  {
   "cell_type": "code",
   "execution_count": null,
   "id": "faceeabe-1d7f-4f23-946c-0517ed435884",
   "metadata": {},
   "outputs": [],
   "source": [
    "# instantiate a word cloud object\n",
    "alice_wc = WordCloud(stopwords=stopwords)\n",
    "\n",
    "# generate the word cloud\n",
    "alice_wc.generate(alice_novel)"
   ]
  },
  {
   "cell_type": "markdown",
   "id": "a80a1e7a-22e0-445b-914f-c04b196e119e",
   "metadata": {},
   "source": [
    "Awesome! Now that the `word` cloud is created, let's visualize it.\n"
   ]
  },
  {
   "cell_type": "code",
   "execution_count": null,
   "id": "cf332636-c013-46b9-85a0-adcedc5a7903",
   "metadata": {},
   "outputs": [],
   "source": [
    "# display the word cloud\n",
    "plt.imshow(alice_wc, interpolation='bilinear')\n",
    "plt.axis('off')\n",
    "plt.show()"
   ]
  },
  {
   "cell_type": "markdown",
   "id": "76a7a248-2376-45fd-b777-9a8b4e9ef2ad",
   "metadata": {},
   "source": [
    "Interesting! So in the first 2000 words in the novel, the most common words are **Alice**, **said**, **little**, **Queen**, and so on. Let's resize the cloud so that we can see the less frequent words a little better.\n"
   ]
  },
  {
   "cell_type": "code",
   "execution_count": null,
   "id": "4a6d38b9-96fc-4584-b57f-6b06fb8540b3",
   "metadata": {},
   "outputs": [],
   "source": [
    "fig = plt.figure(figsize=(14, 18))\n",
    "\n",
    "# display the cloud\n",
    "plt.imshow(alice_wc, interpolation='bilinear')\n",
    "plt.axis('off')\n",
    "plt.show()"
   ]
  },
  {
   "cell_type": "markdown",
   "id": "dcfba30e-b503-4fb3-9487-b2ced1ab2136",
   "metadata": {},
   "source": [
    "Excellent! This looks really interesting! Another cool thing you can implement with the `word_cloud` package is superimposing the words onto a mask of any shape. Let's use a mask of Alice and her rabbit. We already created the mask for you, so let's go ahead and download it and call it *alice_mask.png*.\n"
   ]
  },
  {
   "cell_type": "code",
   "execution_count": null,
   "id": "2b542ab5-cff3-4af7-9793-281eaa5d99b7",
   "metadata": {},
   "outputs": [],
   "source": [
    "#save mask to alice_mask\n",
    "alice_mask = np.array(Image.open(urllib.request.urlopen('https://cf-courses-data.s3.us.cloud-object-storage.appdomain.cloud/IBMDeveloperSkillsNetwork-DV0101EN-SkillsNetwork/labs/Module%204/images/alice_mask.png')))"
   ]
  },
  {
   "cell_type": "markdown",
   "id": "c3c8b1fb-e61b-444a-a122-e3cfd4456aac",
   "metadata": {},
   "source": [
    "Let's take a look at how the mask looks like.\n"
   ]
  },
  {
   "cell_type": "code",
   "execution_count": null,
   "id": "a1b020b0-54c7-4328-a5b7-11f580c9b6fb",
   "metadata": {},
   "outputs": [],
   "source": [
    "fig = plt.figure(figsize=(14, 18))\n",
    "\n",
    "plt.imshow(alice_mask, cmap=plt.cm.gray, interpolation='bilinear')\n",
    "plt.axis('off')\n",
    "plt.show()"
   ]
  },
  {
   "cell_type": "markdown",
   "id": "6fe4270f-7a36-4b4a-95cb-08d359f09dfd",
   "metadata": {},
   "source": [
    "Shaping the `word` cloud according to the mask is straightforward using `word_cloud` package. For simplicity, we will continue using the first 2000 words in the novel.\n"
   ]
  },
  {
   "cell_type": "code",
   "execution_count": null,
   "id": "8b1d28da-13d1-4227-85e3-b0701d521afc",
   "metadata": {},
   "outputs": [],
   "source": [
    "# instantiate a word cloud object\n",
    "alice_wc = WordCloud(background_color='white', max_words=2000, mask=alice_mask, stopwords=stopwords)\n",
    "\n",
    "# generate the word cloud\n",
    "alice_wc.generate(alice_novel)\n",
    "\n",
    "# display the word cloud\n",
    "fig = plt.figure(figsize=(14, 18))\n",
    "\n",
    "plt.imshow(alice_wc, interpolation='bilinear')\n",
    "plt.axis('off')\n",
    "plt.show()"
   ]
  },
  {
   "cell_type": "markdown",
   "id": "f222884f-f290-4a15-ab95-58b5024e8325",
   "metadata": {},
   "source": [
    "Really impressive!\n"
   ]
  },
  {
   "cell_type": "markdown",
   "id": "737ebec8-0eb0-4d10-b369-23168c3e60b9",
   "metadata": {},
   "source": [
    "Unfortunately, our immigration data does not have any text data, but where there is a will there is a way. Let's generate sample text data from our immigration dataset, say text data of 90 words.\n"
   ]
  },
  {
   "cell_type": "markdown",
   "id": "3fff4ad1-7052-4c97-8f6c-8a04755065d8",
   "metadata": {},
   "source": [
    "Let's recall how our data looks like.\n"
   ]
  },
  {
   "cell_type": "code",
   "execution_count": null,
   "id": "9c21ce92-8be3-4b3c-8919-e17972d20d48",
   "metadata": {},
   "outputs": [],
   "source": [
    "df_can.head()"
   ]
  },
  {
   "cell_type": "markdown",
   "id": "6bfcf877-c83f-4afa-8acb-8807ec34354d",
   "metadata": {},
   "source": [
    "And what was the total immigration from 1980 to 2013?\n"
   ]
  },
  {
   "cell_type": "code",
   "execution_count": null,
   "id": "5edaed54-cd79-47b3-a967-55d9aa1cb35e",
   "metadata": {},
   "outputs": [],
   "source": [
    "total_immigration = df_can['Total'].sum()\n",
    "total_immigration"
   ]
  },
  {
   "cell_type": "markdown",
   "id": "04022629-e811-466a-adec-73fbb679b92b",
   "metadata": {},
   "source": [
    "Using countries with single-word names, let's duplicate each country's name based on how much they contribute to the total immigration.\n"
   ]
  },
  {
   "cell_type": "code",
   "execution_count": null,
   "id": "ca88e0af-175d-4431-b22f-af396409e01e",
   "metadata": {},
   "outputs": [],
   "source": [
    "max_words = 90\n",
    "word_string = ''\n",
    "for country in df_can.index.values:\n",
    "     # check if country's name is a single-word name\n",
    "    if country.count(\" \") == 0:\n",
    "        repeat_num_times = int(df_can.loc[country, 'Total'] / total_immigration * max_words)\n",
    "        word_string = word_string + ((country + ' ') * repeat_num_times)\n",
    "\n",
    "# display the generated text\n",
    "word_string"
   ]
  },
  {
   "cell_type": "markdown",
   "id": "f8ce3c80-e07d-4d33-a6f4-a2f2d82384cd",
   "metadata": {},
   "source": [
    "We are not dealing with any stopwords here, so there is no need to pass them when creating the word cloud.\n"
   ]
  },
  {
   "cell_type": "code",
   "execution_count": null,
   "id": "ece038e1-5b42-4954-a7c8-ef2a9fcf3e89",
   "metadata": {},
   "outputs": [],
   "source": [
    "# create the word cloud\n",
    "wordcloud = WordCloud(background_color='white').generate(word_string)\n",
    "\n",
    "print('Word cloud created!')"
   ]
  },
  {
   "cell_type": "code",
   "execution_count": null,
   "id": "93505c70-1dba-4cec-8056-cbd63b48b321",
   "metadata": {},
   "outputs": [],
   "source": [
    "# display the cloud\n",
    "plt.figure(figsize=(14, 18))\n",
    "\n",
    "plt.imshow(wordcloud, interpolation='bilinear')\n",
    "plt.axis('off')\n",
    "plt.show()"
   ]
  },
  {
   "cell_type": "markdown",
   "id": "ba4d5036-6547-4671-acf8-0370394dd48e",
   "metadata": {},
   "source": [
    "According to the above word cloud, it looks like the majority of the people who immigrated came from one of 15 countries that are displayed by the word cloud. One cool visual that you could build, is perhaps using the map of Canada and a mask and superimposing the word cloud on top of the map of Canada. That would be an interesting visual to build!\n"
   ]
  },
  {
   "cell_type": "markdown",
   "id": "722df60e-1f84-456e-af94-c8b7bb85d215",
   "metadata": {},
   "source": [
    "# Plotting with Seaborn <a id=\"5\"></a>\n",
    "\n",
    "> Seaborn is a Python visualization library based on matplotlib. It provides a high-level interface for drawing attractive statistical graphics. You can learn more about *seaborn* by following this [link](https://seaborn.pydata.org/?utm_medium=Exinfluencer&utm_source=Exinfluencer&utm_content=000026UJ&utm_term=10006555&utm_id=NA-SkillsNetwork-Channel-SkillsNetworkCoursesIBMDeveloperSkillsNetworkDV0101ENSkillsNetwork20297740-2021-01-01) and more about *seaborn* regression plots by following this [link](http://seaborn.pydata.org/generated/seaborn.regplot.html?utm_medium=Exinfluencer&utm_source=Exinfluencer&utm_content=000026UJ&utm_term=10006555&utm_id=NA-SkillsNetwork-Channel-SkillsNetworkCoursesIBMDeveloperSkillsNetworkDV0101ENSkillsNetwork20297740-2021-01-01).\n"
   ]
  },
  {
   "cell_type": "markdown",
   "id": "75d9db4b-6773-4890-8799-22faee1c51b6",
   "metadata": {},
   "source": [
    "In lab *Pie Charts, Box Plots, Scatter Plots, and Bubble Plots*, we learned how to create a scatter plot and then fit a regression line. It took \\~20 lines of code to create the scatter plot along with the regression fit. In this final section, we will explore *seaborn* and see how efficient it is to create regression lines and fits using this library!\n"
   ]
  },
  {
   "cell_type": "markdown",
   "id": "3878c809-47de-4d92-8741-3424ec8f22ea",
   "metadata": {},
   "source": [
    "### Categorical Plots\n",
    "In our data 'df_can', let's find out how many continents are mentioned\n"
   ]
  },
  {
   "cell_type": "code",
   "execution_count": null,
   "id": "fc6770ff-7c60-4b36-b3af-f5eb4b7c424d",
   "metadata": {},
   "outputs": [],
   "source": [
    "df_can['Continent'].unique()"
   ]
  },
  {
   "cell_type": "markdown",
   "id": "bfce8724-a227-4645-b491-65e39665a1de",
   "metadata": {},
   "source": [
    "### countplot\n",
    "**A count plot can be thought of as a histogram across a categorical, instead of quantitative, variable.**\n",
    "Let's find the count of Continents in the data 'df_can' using countplot on 'Continent'\n"
   ]
  },
  {
   "cell_type": "code",
   "execution_count": null,
   "id": "5d400c79-00ef-4fc8-932f-9d03b46a3064",
   "metadata": {},
   "outputs": [],
   "source": [
    "sns.countplot(x='Continent', data=df_can)"
   ]
  },
  {
   "cell_type": "markdown",
   "id": "bec3bf4e-78ee-44d4-be0c-e513d12a425f",
   "metadata": {},
   "source": [
    "The labels on the x-axis doesnot look as expected.<br>Let's try to replace the 'Latin America and the Caribbean' with and \"L-America\", 'Northern America' with \"N-America\", <br>and change the figure size and then display the plot again\n"
   ]
  },
  {
   "cell_type": "code",
   "execution_count": null,
   "id": "4c7b1b0d-9ef4-4fb7-9d63-7f3119eec38d",
   "metadata": {},
   "outputs": [],
   "source": [
    "df_can1 = df_can.replace('Latin America and the Caribbean', 'L-America')\n",
    "df_can1 = df_can1.replace('Northern America', 'N-America')"
   ]
  },
  {
   "cell_type": "code",
   "execution_count": null,
   "id": "7309b193-faf0-4e7f-aaa5-aa748735b722",
   "metadata": {},
   "outputs": [],
   "source": [
    "plt.figure(figsize=(15, 10))\n",
    "sns.countplot(x='Continent', data=df_can1)"
   ]
  },
  {
   "cell_type": "markdown",
   "id": "d2a8149a-de13-4d3a-a7cb-72d1e4388608",
   "metadata": {},
   "source": [
    "Much better!\n"
   ]
  },
  {
   "cell_type": "code",
   "execution_count": null,
   "metadata": {},
   "outputs": [],
   "source": [
    "# same with matplotlib\n",
    "df_can1.groupby(by='Continent').count()['Total'].plot.bar(figsize=(15, 10))"
   ]
  },
  {
   "cell_type": "markdown",
   "id": "ca1cdbdb-495c-4941-b98a-50489c42e4a8",
   "metadata": {},
   "source": [
    "### Barplot\n",
    "**This plot will perform the Groupby on a categorical varaible and plot aggregated values, with confidence intervals**.<br> Let's plot the total immigrants Continent-wise\n"
   ]
  },
  {
   "cell_type": "code",
   "execution_count": null,
   "id": "1a11e2ff-46b6-4df2-a75e-be3c3e803eed",
   "metadata": {},
   "outputs": [],
   "source": [
    "plt.figure(figsize=(15, 10))\n",
    "sns.barplot(x='Continent', y='Total', data=df_can1)"
   ]
  },
  {
   "cell_type": "code",
   "execution_count": null,
   "id": "d78edfab-d1fe-407c-b92d-646364a98675",
   "metadata": {},
   "outputs": [],
   "source": [
    "# same with matplotlib\n",
    "df_can1.groupby('Continent')['Total'].mean().plot.bar()"
   ]
  },
  {
   "cell_type": "markdown",
   "id": "d2d532b8-844e-4768-977d-3b2dd46eefb8",
   "metadata": {},
   "source": [
    "Create a new dataframe that stores that total number of landed immigrants to Canada per year from 1980 to 2013.\n"
   ]
  },
  {
   "cell_type": "code",
   "execution_count": null,
   "metadata": {},
   "outputs": [],
   "source": [
    "def getYears():\n",
    "    return [col for col in df_can.columns if col.isnumeric()]\n",
    "\n",
    "df_tot = pd.DataFrame({'total': df_can.loc[:, getYears()].sum()}).reset_index(names='year')\n",
    "df_tot['year'] = df_tot['year'].astype(int)\n",
    "df_tot.head()"
   ]
  },
  {
   "cell_type": "markdown",
   "id": "3d9717b2-3026-41d5-93dc-c0d0248d8cc0",
   "metadata": {},
   "source": [
    "# Regression Plot <a id=\"6\"></a>\n",
    "With *seaborn*, generating a regression plot is as simple as calling the **regplot** function.\n"
   ]
  },
  {
   "cell_type": "code",
   "execution_count": null,
   "metadata": {},
   "outputs": [],
   "source": [
    "sns.regplot(data=df_tot, x='year', y='total')"
   ]
  },
  {
   "cell_type": "markdown",
   "id": "221b9407-69ca-4733-942f-a843382b9e92",
   "metadata": {},
   "source": [
    "This is not magic; it is *seaborn*! You can also customize the color of the scatter plot and regression line. Let's change the color to green.\n"
   ]
  },
  {
   "cell_type": "code",
   "execution_count": null,
   "id": "abe7f630-406c-4544-9296-a76a80bd31a4",
   "metadata": {},
   "outputs": [],
   "source": [
    "sns.regplot(x='year', y='total', data=df_tot, color='green')\n",
    "plt.show()"
   ]
  },
  {
   "cell_type": "markdown",
   "id": "48377364-838b-44c9-a30e-291978add385",
   "metadata": {},
   "source": [
    "You can always customize the marker shape, so instead of circular markers, let's use `+`.\n"
   ]
  },
  {
   "cell_type": "code",
   "execution_count": null,
   "id": "5e4dabfa-90c5-47f8-a2e4-ea89b87d0163",
   "metadata": {},
   "outputs": [],
   "source": [
    "ax = sns.regplot(x='year', y='total', data=df_tot, color='green', marker='+')\n",
    "plt.show()"
   ]
  },
  {
   "cell_type": "markdown",
   "id": "7e7581ec-7991-4ee3-afc8-31dbd55905be",
   "metadata": {},
   "source": [
    "Let's blow up the plot a little so that it is more appealing to the sight.\n"
   ]
  },
  {
   "cell_type": "code",
   "execution_count": null,
   "id": "6ee1185c-d656-4a70-8cab-e9a8469989e3",
   "metadata": {},
   "outputs": [],
   "source": [
    "plt.figure(figsize=(15, 10))\n",
    "sns.regplot(x='year', y='total', data=df_tot, color='green', marker='+')\n",
    "plt.show()"
   ]
  },
  {
   "cell_type": "markdown",
   "id": "971c946c-b9b1-4a2b-88cd-f7401e537e98",
   "metadata": {},
   "source": [
    "And let's increase the size of markers so they match the new size of the figure, and add a title and x- and y-labels.\n"
   ]
  },
  {
   "cell_type": "code",
   "execution_count": null,
   "id": "447e3643-5977-41c4-a49b-d60f533b30c4",
   "metadata": {},
   "outputs": [],
   "source": [
    "plt.figure(figsize=(15, 10))\n",
    "ax = sns.regplot(x='year', y='total', data=df_tot, color='green', marker='+', scatter_kws={'s': 200})\n",
    "\n",
    "ax.set(xlabel='Year', ylabel='Total Immigration') # add x- and y-labels\n",
    "ax.set_title('Total Immigration to Canada from 1980 - 2013') # add title\n",
    "plt.show()"
   ]
  },
  {
   "cell_type": "markdown",
   "id": "375a3ab4-3a4b-4895-a1a6-5609995cf5db",
   "metadata": {},
   "source": [
    "And finally increase the font size of the tickmark labels, the title, and the x- and y-labels so they don't feel left out!\n"
   ]
  },
  {
   "cell_type": "code",
   "execution_count": null,
   "id": "8c12ce6f-0dc8-44b8-ae8b-4ee50b9ba636",
   "metadata": {},
   "outputs": [],
   "source": [
    "plt.figure(figsize=(15, 10))\n",
    "\n",
    "sns.set(font_scale=1.5)\n",
    "\n",
    "ax = sns.regplot(x='year', y='total', data=df_tot, color='green', marker='+', scatter_kws={'s': 200})\n",
    "ax.set(xlabel='Year', ylabel='Total Immigration')\n",
    "ax.set_title('Total Immigration to Canada from 1980 - 2013')\n",
    "plt.show()"
   ]
  },
  {
   "cell_type": "markdown",
   "id": "ac3f28d0-8d78-4800-a52c-0b7750586ab1",
   "metadata": {},
   "source": [
    "Amazing! A complete scatter plot with a regression fit with 5 lines of code only. Isn't this really amazing?\n"
   ]
  },
  {
   "cell_type": "markdown",
   "id": "a6ec91b4-6c97-4d54-88f0-2c4aa381f36e",
   "metadata": {},
   "source": [
    "If you are not a big fan of the purple background, you can easily change the style to a white plain background.\n"
   ]
  },
  {
   "cell_type": "code",
   "execution_count": null,
   "id": "526c7cfc-485e-46b2-9e4f-ce2f118fe446",
   "metadata": {},
   "outputs": [],
   "source": [
    "plt.figure(figsize=(15, 10))\n",
    "\n",
    "sns.set(font_scale=1.5)\n",
    "sns.set_style('ticks')  # change background to white background\n",
    "\n",
    "ax = sns.regplot(x='year', y='total', data=df_tot, color='green', marker='+', scatter_kws={'s': 200})\n",
    "ax.set(xlabel='Year', ylabel='Total Immigration')\n",
    "ax.set_title('Total Immigration to Canada from 1980 - 2013')\n",
    "plt.show()"
   ]
  },
  {
   "cell_type": "markdown",
   "id": "5830a061-1920-4aff-87e5-4be75fc08c0c",
   "metadata": {},
   "source": [
    "Or to a white background with gridlines.\n"
   ]
  },
  {
   "cell_type": "code",
   "execution_count": null,
   "id": "b1e6c311-0a6e-4355-aea8-edce741800c7",
   "metadata": {},
   "outputs": [],
   "source": [
    "plt.figure(figsize=(15, 10))\n",
    "\n",
    "sns.set(font_scale=1.5)\n",
    "sns.set_style('whitegrid')\n",
    "\n",
    "ax = sns.regplot(x='year', y='total', data=df_tot, color='green', marker='+', scatter_kws={'s': 200})\n",
    "ax.set(xlabel='Year', ylabel='Total Immigration')\n",
    "ax.set_title('Total Immigration to Canada from 1980 - 2013')\n",
    "plt.show()"
   ]
  },
  {
   "cell_type": "markdown",
   "id": "04e263c7-6254-46aa-904b-52cbc4c7a5de",
   "metadata": {},
   "source": [
    "**Question**: Use seaborn to create a scatter plot with a regression line to visualize the total immigration from Denmark, Sweden, and Norway to Canada from 1980 to 2013.\n"
   ]
  },
  {
   "cell_type": "code",
   "execution_count": null,
   "id": "52e9c71d-b263-4d25-b810-230e1bec32ba",
   "metadata": {},
   "outputs": [],
   "source": [
    "### type your answer here\n",
    "\n",
    "\n",
    "\n"
   ]
  },
  {
   "cell_type": "markdown",
   "id": "ea204b9c-c8ea-4418-8c5c-de06e8278dd8",
   "metadata": {},
   "source": [
    "<details><summary>Click here for a sample python solution</summary>\n",
    "\n",
    "```python\n",
    "    #The correct answer is:\n",
    "    \n",
    "    # create df_countries dataframe\n",
    "    df_countries = df_can.loc[['Denmark', 'Norway', 'Sweden'], years].transpose()\n",
    "\n",
    "    # create df_total by summing across three countries for each year\n",
    "    df_total = pd.DataFrame(df_countries.sum(axis=1))\n",
    "\n",
    "    # reset index in place\n",
    "    df_total.reset_index(inplace=True)\n",
    "\n",
    "    # rename columns\n",
    "    df_total.columns = ['year', 'total']\n",
    "\n",
    "    # change column year from string to int to create scatter plot\n",
    "    df_total['year'] = df_total['year'].astype(int)\n",
    "\n",
    "    # define figure size\n",
    "    plt.figure(figsize=(15, 10))\n",
    "\n",
    "    # define background style and font size\n",
    "    sns.set(font_scale=1.5)\n",
    "    sns.set_style('whitegrid')\n",
    "\n",
    "    # generate plot and add title and axes labels\n",
    "    ax = sns.regplot(x='year', y='total', data=df_total, color='green', marker='+', scatter_kws={'s': 200})\n",
    "    ax.set(xlabel='Year', ylabel='Total Immigration')\n",
    "    ax.set_title('Total Immigrationn from Denmark, Sweden, and Norway to Canada from 1980 - 2013')\n",
    "\n",
    "```\n",
    "\n",
    "</details>\n"
   ]
  },
  {
   "cell_type": "markdown",
   "id": "731e5eab-227d-4614-9067-8ac65d2fb408",
   "metadata": {},
   "source": [
    "### Thank you for completing this lab!\n",
    "\n",
    "## Author\n",
    "\n",
    "<a href=\"https://www.linkedin.com/in/aklson/?utm_medium=Exinfluencer&utm_source=Exinfluencer&utm_content=000026UJ&utm_term=10006555&utm_id=NA-SkillsNetwork-Channel-SkillsNetworkCoursesIBMDeveloperSkillsNetworkDV0101ENSkillsNetwork20297740-2021-01-01\">Alex Aklson</a><br>\n",
    "<a href =\"https://www.linkedin.com/in/p-b28802262/\">Dr. Pooja</a>\n",
    "\n",
    "## Change Log\n",
    "\n",
    "| Date (YYYY-MM-DD) | Version | Changed By    | Change Description                 |\n",
    "| ----------------- | ------- | ------------- | ---------------------------------- |\n",
    "| 2023-07-07        | 2.7     | Dr. Pooja         | wordcloud, sns, piplite,pywaffle issue resolved       |\n",
    "| 2023-06-11        | 2.6     | Dr. Pooja         | Clean data link, pywaffle,Categorical plots included       |\n",
    "| 2021-05-19        | 2.3     | Weiqing Wang  | Fixed typos and code spells        |\n",
    "| 2021-01-21        | 2.2     | Lakshmi Holla | Updated TOC markdown cell          |\n",
    "| 2020-11-03        | 2.1     | Lakshmi Holla | Changed URL of excel file          |\n",
    "| 2020-08-27        | 2.0     | Lavanya       | Moved lab to course repo in GitLab |\n",
    "\n",
    "## <h3 align=\"center\"> © IBM Corporation 2020. All rights reserved. <h3/>\n"
   ]
  }
 ],
 "metadata": {
  "kernelspec": {
   "display_name": ".venv",
   "language": "python",
   "name": "python3"
  },
  "language_info": {
   "codemirror_mode": {
    "name": "ipython",
    "version": 3
   },
   "file_extension": ".py",
   "mimetype": "text/x-python",
   "name": "python",
   "nbconvert_exporter": "python",
   "pygments_lexer": "ipython3",
   "version": "3.12.2"
  }
 },
 "nbformat": 4,
 "nbformat_minor": 4
}
