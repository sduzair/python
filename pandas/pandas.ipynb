{
 "cells": [
  {
   "cell_type": "code",
   "execution_count": null,
   "id": "088e269e",
   "metadata": {},
   "outputs": [],
   "source": [
    "# %pip install -q numpy pandas seaborn\n",
    "# %pip freeze > requirements.txt\n",
    "# !python --version > python_version.txt\n",
    "%pip install -q -r requirements.txt"
   ]
  },
  {
   "cell_type": "code",
   "execution_count": null,
   "id": "3346bd2f-3302-451c-ba74-f34ef0098dc6",
   "metadata": {},
   "outputs": [],
   "source": [
    "import pandas as pd\n",
    "import numpy as np\n",
    "import seaborn as sns\n",
    "\n",
    "print(pd.__version__)\n",
    "print(np.__version__)"
   ]
  },
  {
   "cell_type": "markdown",
   "id": "0c41b07e",
   "metadata": {},
   "source": [
    "## Pandas Series"
   ]
  },
  {
   "cell_type": "code",
   "execution_count": null,
   "id": "df006736",
   "metadata": {},
   "outputs": [],
   "source": [
    "# Create a Pandas Series of random 1s and 0s\n",
    "random_series = pd.Series(np.random.randint(0, 2, size=10))\n",
    "\n",
    "random_series = random_series == 1\n",
    "random_series[random_series]"
   ]
  },
  {
   "cell_type": "code",
   "execution_count": null,
   "id": "dd04a54f",
   "metadata": {},
   "outputs": [],
   "source": [
    "series = pd.Series(data=[1, 2, 3], index=['one', 'two', 'three'])\n",
    "series.loc['one']\n",
    "# alternatively,\n",
    "# series['one']"
   ]
  },
  {
   "cell_type": "markdown",
   "id": "47eb53ce",
   "metadata": {},
   "source": [
    "## Numpy Series"
   ]
  },
  {
   "cell_type": "code",
   "execution_count": null,
   "id": "45a11894",
   "metadata": {},
   "outputs": [],
   "source": [
    "# Create a NumPy Series\n",
    "my_series = np.array(range(0, 51, 10))\n",
    "\n",
    "print(my_series)"
   ]
  },
  {
   "cell_type": "code",
   "execution_count": null,
   "id": "04326bdb",
   "metadata": {},
   "outputs": [],
   "source": [
    "df = pd.read_csv(\"https://data.wa.gov/api/views/f6w7-q2d2/rows.csv\", nrows=1_000)"
   ]
  },
  {
   "cell_type": "code",
   "execution_count": null,
   "id": "33799e67",
   "metadata": {},
   "outputs": [],
   "source": [
    "df.head()"
   ]
  },
  {
   "cell_type": "markdown",
   "id": "288e08e4",
   "metadata": {},
   "source": [
    "## Indexing and Selecting Data"
   ]
  },
  {
   "cell_type": "code",
   "execution_count": null,
   "id": "bd1097a4",
   "metadata": {},
   "outputs": [],
   "source": [
    "df_index = df.set_index('DOL Vehicle ID')\n",
    "\n",
    "# selection by label\n",
    "df_index.loc[235085336]"
   ]
  },
  {
   "cell_type": "markdown",
   "id": "6de357c4",
   "metadata": {},
   "source": [
    "## Reshaping"
   ]
  },
  {
   "cell_type": "code",
   "execution_count": null,
   "id": "3d75bf1c",
   "metadata": {},
   "outputs": [],
   "source": [
    "df_index.info()"
   ]
  },
  {
   "cell_type": "code",
   "execution_count": null,
   "id": "8303503e",
   "metadata": {},
   "outputs": [],
   "source": [
    "pd.pivot_table(\n",
    "    data=df_index,\n",
    "    columns='State',\n",
    "    index=['Electric Vehicle Type', 'Make'],\n",
    "    values='Base MSRP'\n",
    ").unstack(1).stack(1, future_stack=True)"
   ]
  },
  {
   "cell_type": "markdown",
   "id": "fc3901a7",
   "metadata": {},
   "source": [
    "## Data Quality Checks"
   ]
  },
  {
   "cell_type": "code",
   "execution_count": null,
   "id": "1a6c1066",
   "metadata": {},
   "outputs": [],
   "source": [
    "df.info()"
   ]
  },
  {
   "cell_type": "markdown",
   "id": "bbbcdd76",
   "metadata": {},
   "source": [
    "### Number of missing values"
   ]
  },
  {
   "cell_type": "code",
   "execution_count": null,
   "id": "1c14ac4d",
   "metadata": {},
   "outputs": [],
   "source": [
    "_ = df.isna().sum()\n",
    "missing = _[_ > 0]\n",
    "missing"
   ]
  },
  {
   "cell_type": "markdown",
   "id": "f9913557",
   "metadata": {},
   "source": [
    "### Static values"
   ]
  },
  {
   "cell_type": "code",
   "execution_count": null,
   "id": "1d633633",
   "metadata": {},
   "outputs": [],
   "source": [
    "_ = df.nunique()\n",
    "static_vals = _[_ == 1]\n",
    "static_vals"
   ]
  },
  {
   "cell_type": "markdown",
   "id": "3c40fc0b",
   "metadata": {},
   "source": [
    "### Rows with missing cells"
   ]
  },
  {
   "cell_type": "code",
   "execution_count": null,
   "id": "987e2cd1",
   "metadata": {},
   "outputs": [],
   "source": [
    "rows_with_missing = df.loc[df.isna().any(axis=1), :]\n",
    "rows_with_missing.head()"
   ]
  },
  {
   "cell_type": "markdown",
   "id": "28ce2cda",
   "metadata": {},
   "source": [
    "## Statistical Analysis"
   ]
  },
  {
   "cell_type": "code",
   "execution_count": null,
   "id": "a186d4d8",
   "metadata": {},
   "outputs": [],
   "source": [
    "df.describe()"
   ]
  },
  {
   "cell_type": "code",
   "execution_count": null,
   "id": "6dc2e8f6",
   "metadata": {},
   "outputs": [],
   "source": [
    "f'{df['Postal Code'].memory_usage(deep=True):_}'"
   ]
  },
  {
   "cell_type": "code",
   "execution_count": null,
   "id": "2c5658a4",
   "metadata": {},
   "outputs": [],
   "source": [
    "df = df.assign(**{'Postal Code': df['Postal Code'].fillna(0).astype('int32')})"
   ]
  },
  {
   "cell_type": "code",
   "execution_count": null,
   "id": "c7416ea6",
   "metadata": {},
   "outputs": [],
   "source": [
    "f'{df['Postal Code'].memory_usage(deep=True):_}'"
   ]
  },
  {
   "cell_type": "markdown",
   "id": "d95fd465",
   "metadata": {},
   "source": [
    "## Univariate Analysis"
   ]
  },
  {
   "cell_type": "markdown",
   "id": "ba1bd3c9",
   "metadata": {},
   "source": [
    "### Electric Range Distribution"
   ]
  },
  {
   "cell_type": "code",
   "execution_count": null,
   "id": "7666d592",
   "metadata": {},
   "outputs": [],
   "source": [
    "electric_range = df['Electric Range'][df['Electric Range'] > 0]\n",
    "sns.histplot(electric_range, binwidth=50)"
   ]
  }
 ],
 "metadata": {
  "kernelspec": {
   "display_name": ".pandas",
   "language": "python",
   "name": "python3"
  },
  "language_info": {
   "codemirror_mode": {
    "name": "ipython",
    "version": 3
   },
   "file_extension": ".py",
   "mimetype": "text/x-python",
   "name": "python",
   "nbconvert_exporter": "python",
   "pygments_lexer": "ipython3",
   "version": "3.12.2"
  }
 },
 "nbformat": 4,
 "nbformat_minor": 5
}
