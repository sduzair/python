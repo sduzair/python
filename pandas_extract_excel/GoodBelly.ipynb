{
 "cells": [
  {
   "cell_type": "code",
   "execution_count": null,
   "id": "8e39a810-f5eb-41f9-890d-e7bfb4f93b12",
   "metadata": {},
   "outputs": [],
   "source": [
    "# !pip install pandas\n",
    "# !pip install openpyxl\n",
    "# !pip freeze > requirements.txt\n",
    "# !pip install -r requirements.txt"
   ]
  },
  {
   "cell_type": "code",
   "execution_count": null,
   "id": "f4d9c9eb",
   "metadata": {
    "id": "f4d9c9eb"
   },
   "outputs": [],
   "source": [
    "import pandas as pd\n",
    "import numpy as np\n",
    "import warnings\n",
    "from openpyxl import load_workbook\n",
    "\n",
    "warnings.filterwarnings(\"ignore\")"
   ]
  },
  {
   "cell_type": "code",
   "execution_count": null,
   "id": "3b476bec-bd1a-485a-83d6-8456708b062c",
   "metadata": {},
   "outputs": [],
   "source": [
    "workbook = load_workbook(filename=\"GoodBelly-DataSet.xlsx\")\n",
    "# print(workbook.sheetnames)\n",
    "sheet = workbook[\"Real Data\"]\n",
    "data = sheet.values\n",
    "df = pd.DataFrame(data)\n",
    "new_header = df.iloc[0]  # Grab the first row for the header\n",
    "df = df[1:]  # Take the data less the header row\n",
    "df.columns = new_header  # Set the header row as the DataFrame header\n",
    "df = df.loc[:, :\"Fitness\"]\n",
    "df = df.apply(pd.to_numeric, errors=\"ignore\")\n",
    "\n",
    "df.head()"
   ]
  },
  {
   "cell_type": "code",
   "execution_count": null,
   "id": "800bfe9a-86e4-460e-ab50-5706bbad4ba6",
   "metadata": {},
   "outputs": [],
   "source": [
    "# %pdoc df.loc\n",
    "# %pdef df.to_csv\n",
    "# df.to_csv?\n",
    "# %pfile pd.loc\n",
    "df.loc?"
   ]
  },
  {
   "cell_type": "code",
   "execution_count": null,
   "id": "1416d057-d83e-4332-a731-f2980955848f",
   "metadata": {},
   "outputs": [],
   "source": [
    "df.info()"
   ]
  },
  {
   "cell_type": "code",
   "execution_count": null,
   "id": "12123e22",
   "metadata": {
    "id": "12123e22"
   },
   "outputs": [],
   "source": [
    "# Q1 - Give summary of numeric type of columns in dataset?"
   ]
  },
  {
   "cell_type": "code",
   "execution_count": null,
   "id": "f56a01f2-9c02-4abd-9830-51d1bed66a1d",
   "metadata": {},
   "outputs": [],
   "source": [
    "df.describe()"
   ]
  },
  {
   "cell_type": "code",
   "execution_count": null,
   "id": "13283b1d",
   "metadata": {
    "id": "13283b1d"
   },
   "outputs": [],
   "source": [
    "# Q2 Calc STD of columns in dataset\n",
    "df.describe().loc[[\"std\"], :]"
   ]
  },
  {
   "cell_type": "code",
   "execution_count": null,
   "id": "7c71300a",
   "metadata": {
    "id": "7c71300a"
   },
   "outputs": [],
   "source": [
    "# Q3 mean of first 50 records in dataset"
   ]
  },
  {
   "cell_type": "code",
   "execution_count": null,
   "id": "e4835f54-714b-4034-b53f-a6bb172c73f4",
   "metadata": {},
   "outputs": [],
   "source": [
    "df_50 = df.head(50)\n",
    "df_50.describe().loc[[\"mean\"], :]"
   ]
  },
  {
   "cell_type": "code",
   "execution_count": null,
   "id": "6a5e7d11",
   "metadata": {
    "id": "6a5e7d11"
   },
   "outputs": [],
   "source": [
    "# Q4 What are thecolumn names"
   ]
  },
  {
   "cell_type": "code",
   "execution_count": null,
   "id": "061ecd72-ce88-43a9-9928-5fa0358c6fef",
   "metadata": {},
   "outputs": [],
   "source": [
    "df.columns"
   ]
  },
  {
   "cell_type": "code",
   "execution_count": null,
   "id": "d34a7891",
   "metadata": {
    "id": "d34a7891"
   },
   "outputs": [],
   "source": [
    "# Q - Number of elements in dataset"
   ]
  },
  {
   "cell_type": "code",
   "execution_count": null,
   "id": "b2bf61df-318e-4a4a-9096-676c2654fb92",
   "metadata": {},
   "outputs": [],
   "source": [
    "df.shape[0] * df.shape[1]"
   ]
  },
  {
   "cell_type": "code",
   "execution_count": null,
   "id": "0b111e99",
   "metadata": {
    "id": "0b111e99"
   },
   "outputs": [],
   "source": [
    "# Q- No. of records this dataset has"
   ]
  },
  {
   "cell_type": "code",
   "execution_count": null,
   "id": "a305f47e-e674-4117-8abf-f1572ee5879c",
   "metadata": {},
   "outputs": [],
   "source": [
    "df.shape[0]"
   ]
  },
  {
   "cell_type": "code",
   "execution_count": null,
   "id": "428747b0",
   "metadata": {
    "id": "428747b0"
   },
   "outputs": [],
   "source": [
    "# Q type of column dataset has"
   ]
  },
  {
   "cell_type": "code",
   "execution_count": null,
   "id": "21f7c0cd",
   "metadata": {
    "id": "21f7c0cd"
   },
   "outputs": [],
   "source": [
    "df.info()"
   ]
  }
 ],
 "metadata": {
  "colab": {
   "provenance": []
  },
  "kernelspec": {
   "display_name": ".venv",
   "language": "python",
   "name": "python3"
  },
  "language_info": {
   "codemirror_mode": {
    "name": "ipython",
    "version": 3
   },
   "file_extension": ".py",
   "mimetype": "text/x-python",
   "name": "python",
   "nbconvert_exporter": "python",
   "pygments_lexer": "ipython3",
   "version": "3.12.2"
  }
 },
 "nbformat": 4,
 "nbformat_minor": 5
}
