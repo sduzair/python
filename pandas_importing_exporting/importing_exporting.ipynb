{
 "cells": [
  {
   "cell_type": "code",
   "execution_count": null,
   "id": "7f7920b2-ecab-4baf-acec-f183971fbef3",
   "metadata": {},
   "outputs": [],
   "source": [
    "# !pip install pandas\n",
    "# !pip install openpyxl\n",
    "# !pip freeze > requirements.txt\n",
    "# !pip install -r requirements.txt"
   ]
  },
  {
   "cell_type": "code",
   "execution_count": null,
   "id": "7c601313-ea40-4a09-8560-bbc3e07ceb01",
   "metadata": {},
   "outputs": [],
   "source": [
    "import pandas as pd\n",
    "\n",
    "print(pd.__version__)"
   ]
  },
  {
   "cell_type": "code",
   "execution_count": null,
   "id": "b95be8f4",
   "metadata": {},
   "outputs": [],
   "source": [
    "df = pd.read_csv('cities.csv')\n",
    "df.head()"
   ]
  },
  {
   "cell_type": "markdown",
   "id": "aac86753-8261-440e-b417-13e962934328",
   "metadata": {},
   "source": [
    "## 4) Perform describe and info on dataframe"
   ]
  },
  {
   "cell_type": "code",
   "execution_count": null,
   "id": "3cbb009f-c74c-46c7-b727-9a9e4bbbb5c8",
   "metadata": {},
   "outputs": [],
   "source": [
    "df.describe()"
   ]
  },
  {
   "cell_type": "code",
   "execution_count": null,
   "id": "2a44e82a-8897-4f2d-8439-5534086c9619",
   "metadata": {},
   "outputs": [],
   "source": [
    "df.info()"
   ]
  },
  {
   "cell_type": "markdown",
   "id": "a88d5d38-d830-4a63-8beb-d9d285731853",
   "metadata": {},
   "source": [
    "## 5) Export and save this data as cities1.csv"
   ]
  },
  {
   "cell_type": "code",
   "execution_count": null,
   "id": "d121eb56-3859-4bf8-9a45-5adb6d3ad392",
   "metadata": {},
   "outputs": [],
   "source": [
    "df.to_csv('cities1.csv', index=False)"
   ]
  },
  {
   "cell_type": "markdown",
   "id": "33056758-caa6-4818-883e-ef448c94f434",
   "metadata": {},
   "source": [
    "## 2) Import xlsx in a dataframe"
   ]
  },
  {
   "cell_type": "code",
   "execution_count": null,
   "id": "5fd1d1b2-62f1-4ade-ba39-3d1a62c97ecc",
   "metadata": {},
   "outputs": [],
   "source": [
    "car_sales = pd.read_excel('CarSalesByModelStart.xlsx')\n",
    "car_sales.head()"
   ]
  },
  {
   "cell_type": "markdown",
   "id": "bfcaf0fc-e705-4089-8bb0-5bf09971bea5",
   "metadata": {},
   "source": [
    "## 4) Perform describe and info on dataframe"
   ]
  },
  {
   "cell_type": "code",
   "execution_count": null,
   "id": "d6ee70be-a2b5-4825-baa7-13f5b20dbe5b",
   "metadata": {},
   "outputs": [],
   "source": [
    "car_sales.describe()"
   ]
  },
  {
   "cell_type": "code",
   "execution_count": null,
   "id": "48578b3c-26c3-42cc-b614-e72e1d96fb93",
   "metadata": {},
   "outputs": [],
   "source": [
    "car_sales.info()"
   ]
  },
  {
   "cell_type": "markdown",
   "id": "01400719-8df8-490f-be7f-632342f5c41c",
   "metadata": {},
   "source": [
    "## 5) Export and save this data as CarSalesByModelStart1.xlsx"
   ]
  },
  {
   "cell_type": "code",
   "execution_count": null,
   "id": "5b2dc6dc-0c74-46d4-b8a7-2305eda106e5",
   "metadata": {},
   "outputs": [],
   "source": [
    "car_sales.to_excel('CarSalesByModelStart1.xlsx', index=False)"
   ]
  },
  {
   "cell_type": "markdown",
   "id": "07586919-0c71-43b0-966b-3256b00c0174",
   "metadata": {},
   "source": [
    "## 1) Download Jay.json in C7W1 Activity folder\n",
    "## 2) Import the Json in dataframe\n",
    "## 3) Add a column to the dataframe\n",
    "## 4) Perform describe and info on dataframe\n",
    "## 5) Export and save this data as Jay1.jso"
   ]
  },
  {
   "cell_type": "code",
   "execution_count": null,
   "id": "6b3a2dd4-97f8-4183-9dcf-d6b7b1865014",
   "metadata": {},
   "outputs": [],
   "source": [
    "jay_data = pd.read_json('Jay (1).json')"
   ]
  },
  {
   "cell_type": "code",
   "execution_count": null,
   "id": "0eb4d6a3-d86b-478b-8f34-25b63c8249dd",
   "metadata": {},
   "outputs": [],
   "source": [
    "jay_data.describe()"
   ]
  },
  {
   "cell_type": "code",
   "execution_count": null,
   "id": "53109b6d-2d7e-4d6b-88d7-93a5599ad88f",
   "metadata": {},
   "outputs": [],
   "source": [
    "jay_data.info()"
   ]
  },
  {
   "cell_type": "code",
   "execution_count": null,
   "id": "9f724bfb-98df-4c0d-b9c9-066f1b0a5d3b",
   "metadata": {},
   "outputs": [],
   "source": [
    "jay_data.to_json('Jay (1)1.json')"
   ]
  }
 ],
 "metadata": {
  "kernelspec": {
   "display_name": "Python 3 (ipykernel)",
   "language": "python",
   "name": "python3"
  },
  "language_info": {
   "codemirror_mode": {
    "name": "ipython",
    "version": 3
   },
   "file_extension": ".py",
   "mimetype": "text/x-python",
   "name": "python",
   "nbconvert_exporter": "python",
   "pygments_lexer": "ipython3",
   "version": "3.12.2"
  }
 },
 "nbformat": 4,
 "nbformat_minor": 5
}
