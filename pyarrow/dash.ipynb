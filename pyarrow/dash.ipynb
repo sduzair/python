{
 "cells": [
  {
   "cell_type": "markdown",
   "metadata": {},
   "source": [
    "# Airline On-time Performance Dashboard with Plotly-Dash"
   ]
  },
  {
   "cell_type": "markdown",
   "metadata": {},
   "source": [
    "## Dependencies"
   ]
  },
  {
   "cell_type": "code",
   "execution_count": null,
   "metadata": {},
   "outputs": [],
   "source": [
    "%pip install -q pandas requests lxml tabulate pyarrow"
   ]
  },
  {
   "cell_type": "markdown",
   "metadata": {},
   "source": [
    "## Imports"
   ]
  },
  {
   "cell_type": "code",
   "execution_count": null,
   "metadata": {},
   "outputs": [],
   "source": [
    "import pandas as pd\n",
    "import requests\n",
    "import tarfile\n",
    "from os import path"
   ]
  },
  {
   "cell_type": "markdown",
   "metadata": {},
   "source": [
    "## Airline Reporting Carrier On-Time Performance Dataset"
   ]
  },
  {
   "cell_type": "markdown",
   "metadata": {},
   "source": [
    "The Reporting Carrier On-Time Performance Dataset contains US domestic flights between 1987 and 2020.\n",
    "\n",
    "The Reporting Carrier On-Time Performance Dataset contains information on approximately 200 million domestic US flights reported to the United States Bureau of Transportation Statistics. The dataset contains basic information about each flight (such as date, time, departure airport, arrival airport) and, if applicable, the amount of time the flight was delayed and information about the reason for the delay. This dataset can be used to predict the likelihood of a flight arriving on time."
   ]
  },
  {
   "cell_type": "markdown",
   "metadata": {},
   "source": [
    "### Columns"
   ]
  },
  {
   "cell_type": "code",
   "execution_count": null,
   "metadata": {},
   "outputs": [],
   "source": [
    "url_data_summary = (\n",
    "    \"https://dax-cdn.cdn.appdomain.cloud/dax-airline/1.0.1/data-preview/index.html\"\n",
    ")\n",
    "columns = pd.read_html(url_data_summary)[2]\n",
    "columns.to_markdown(\"columns.md\")"
   ]
  },
  {
   "cell_type": "markdown",
   "metadata": {},
   "source": [
    "### Loading data"
   ]
  },
  {
   "cell_type": "code",
   "execution_count": null,
   "metadata": {},
   "outputs": [],
   "source": [
    "# # Downloading the dataset\n",
    "\n",
    "# fname = 'airline_2m.tar.gz'\n",
    "# # fname = 'airline.tar.gz'\n",
    "# url = 'https://dax-cdn.cdn.appdomain.cloud/dax-airline/1.0.1/' + fname\n",
    "# r = requests.get(url)\n",
    "# open(fname , 'wb').write(r.content)"
   ]
  },
  {
   "cell_type": "code",
   "execution_count": null,
   "metadata": {},
   "outputs": [],
   "source": [
    "# # Extracting the dataset\n",
    "# tar = tarfile.open(fname)\n",
    "# tar.extractall()\n",
    "# tar.close()\n",
    "\n",
    "# # Verifying the file was extracted properly\n",
    "data_path = \"airline_2m.csv\"\n",
    "# path.exists(data_path)"
   ]
  },
  {
   "cell_type": "code",
   "execution_count": null,
   "metadata": {},
   "outputs": [],
   "source": [
    "df = pd.read_csv(\n",
    "    data_path,\n",
    "    nrows=10_000,\n",
    "    encoding=\"ISO-8859-1\",\n",
    ")\n",
    "\n",
    "# Preview the first 5 lines of the loaded data\n",
    "df.head()"
   ]
  },
  {
   "cell_type": "code",
   "execution_count": null,
   "metadata": {},
   "outputs": [],
   "source": [
    "df.shape"
   ]
  },
  {
   "cell_type": "markdown",
   "metadata": {},
   "source": [
    "### Column types"
   ]
  },
  {
   "cell_type": "code",
   "execution_count": null,
   "metadata": {},
   "outputs": [],
   "source": [
    "pd.options.display.max_columns = 109\n",
    "df.dtypes.to_frame().T"
   ]
  },
  {
   "cell_type": "markdown",
   "metadata": {},
   "source": [
    "### Comparing size of the dataset with PyArrow"
   ]
  },
  {
   "cell_type": "code",
   "execution_count": null,
   "metadata": {},
   "outputs": [],
   "source": [
    "def clean_data(df: pd.DataFrame):\n",
    "    # Change column type to int16 for column: 'DestAirportSeqID'\n",
    "    df = df.convert_dtypes()\n",
    "    return df\n",
    "\n",
    "\n",
    "df_clean = clean_data(df.copy())\n",
    "df_clean.head()"
   ]
  },
  {
   "cell_type": "code",
   "execution_count": null,
   "metadata": {},
   "outputs": [],
   "source": [
    "df_py = pd.read_csv(\n",
    "    data_path,\n",
    "    nrows=10_000,\n",
    "    encoding=\"ISO-8859-1\",\n",
    "    dtype_backend=\"pyarrow\",\n",
    ")\n",
    "\n",
    "# categories columns\n",
    "cols_cat = ['Div1Airport', 'DistanceGroup', 'Diverted', 'CancellationCode', 'Cancelled', 'ArrivalDelayGroups', 'ArrDel15', 'DepartureDelayGroups', 'DepDel15', 'DestStateName', 'DestState', 'DestCityName', 'Dest', 'OriginStateName', 'OriginState', 'OriginCityName', 'Origin', 'IATA_CODE_Reporting_Airline','Reporting_Airline', 'DayOfWeek', 'Month', 'Quarter']\n",
    "df_py[cols_cat] = df_py[cols_cat].astype('category')\n",
    "\n",
    "# unsigned columns\n",
    "cols_unsigned = ['Year', 'DayofMonth', 'DOT_ID_Reporting_Airline', 'Flight_Number_Reporting_Airline', 'OriginAirportID', 'OriginAirportSeqID', 'OriginCityMarketID', 'OriginStateFips', 'OriginWac', 'DestAirportID', 'DestAirportSeqID', 'DestCityMarketID', 'DestStateFips', 'DestWac', 'CRSDepTime', 'DepTime', 'DepDelayMinutes', 'TaxiOut', 'WheelsOff', 'WheelsOn', 'TaxiIn', 'CRSArrTime', 'ArrTime', 'ArrDelayMinutes', 'CRSElapsedTime', 'ActualElapsedTime', 'AirTime', 'Flights', 'Distance', 'CarrierDelay', 'WeatherDelay', 'NASDelay', 'SecurityDelay', 'LateAircraftDelay', 'FirstDepTime', 'TotalAddGTime', 'LongestAddGTime', 'DivAirportLandings', 'DivActualElapsedTime', 'DivArrDelay', 'DivDistance', 'Div1AirportID', 'Div1AirportSeqID', 'Div1WheelsOn', 'Div1TotalGTime', 'Div1LongestGTime', 'Div1WheelsOff']\n",
    "for col in cols_unsigned:\n",
    "    df_py[col] = pd.to_numeric(df_py[col], downcast='unsigned')\n",
    "\n",
    "# signed columns\n",
    "cols_signed = ['ArrDelay', 'DepDelay']\n",
    "for col in cols_signed:\n",
    "    df_py[col] = pd.to_numeric(df_py[col], downcast='signed')\n",
    "\n",
    "\n",
    "df_py.info()"
   ]
  },
  {
   "cell_type": "code",
   "execution_count": null,
   "metadata": {},
   "outputs": [],
   "source": [
    "df_mem = pd.DataFrame(\n",
    "    {\n",
    "        \"df\": df.dtypes,\n",
    "        \"df_clean\": df_clean.dtypes,\n",
    "        \"df_py\": df_py.dtypes,\n",
    "        \"df_mem\": df.memory_usage(),\n",
    "        \"df_clean_mem\": df_clean.memory_usage(),\n",
    "        \"df_py_mem\": df_py.memory_usage(),\n",
    "    }\n",
    ").T\n",
    "df_mem[\"Total\"] = df_mem.T.loc[:, [\"df_mem\", \"df_clean_mem\", \"df_py_mem\"]].sum()\n",
    "\n",
    "df_mem"
   ]
  },
  {
   "cell_type": "code",
   "execution_count": null,
   "metadata": {},
   "outputs": [],
   "source": []
  }
 ],
 "metadata": {
  "kernelspec": {
   "display_name": ".venv",
   "language": "python",
   "name": "python3"
  },
  "language_info": {
   "codemirror_mode": {
    "name": "ipython",
    "version": 3
   },
   "file_extension": ".py",
   "mimetype": "text/x-python",
   "name": "python",
   "nbconvert_exporter": "python",
   "pygments_lexer": "ipython3",
   "version": "3.12.2"
  }
 },
 "nbformat": 4,
 "nbformat_minor": 2
}
